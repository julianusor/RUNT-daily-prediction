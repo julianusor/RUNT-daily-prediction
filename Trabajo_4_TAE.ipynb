{
  "nbformat": 4,
  "nbformat_minor": 0,
  "metadata": {
    "colab": {
      "name": "Trabajo 4 - TAE.ipynb",
      "provenance": [],
      "collapsed_sections": []
    },
    "kernelspec": {
      "name": "python3",
      "display_name": "Python 3"
    },
    "language_info": {
      "name": "python"
    }
  },
  "cells": [
    {
      "cell_type": "markdown",
      "metadata": {
        "id": "jE5hUG1oaX_o"
      },
      "source": [
        "# Cuarto trabajo - Técnicas de Aprendizaje Estadístico\n",
        "\n",
        "\n",
        "*   Diego de Oliveira Hitzges\n",
        "*   Julián Úsuga Ortiz\n",
        "*   Juan José Hurtado Álvarez\n",
        "*   Santiago Campos Giraldo\n",
        "\n",
        "\n"
      ]
    },
    {
      "cell_type": "markdown",
      "metadata": {
        "id": "Zt0LHEA2VvNC"
      },
      "source": [
        "## Objetivo\n",
        "Predecir el numero de vehiculos registrados diariamente en el sistema de tránsito nacional RUNT"
      ]
    },
    {
      "cell_type": "markdown",
      "metadata": {
        "id": "gJcTU-DEUhOO"
      },
      "source": [
        "## Planteamiento del problema \n",
        "Para nuestro problema que es predecir el numero de vehiculos registados diariamente en el RUNT pensamos en realizar una red neuronal, ya que esta nos permite encontrar patrones en los datos "
      ]
    },
    {
      "cell_type": "markdown",
      "metadata": {
        "id": "3S3NWg-zGtXd"
      },
      "source": [
        "# Carga de los datos "
      ]
    },
    {
      "cell_type": "code",
      "metadata": {
        "colab": {
          "resources": {
            "http://localhost:8080/nbextensions/google.colab/files.js": {
              "data": "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",
              "ok": true,
              "headers": [
                [
                  "content-type",
                  "application/javascript"
                ]
              ],
              "status": 200,
              "status_text": ""
            }
          },
          "base_uri": "https://localhost:8080/",
          "height": 73
        },
        "id": "AA00zz6fwtyl",
        "outputId": "da5d2a39-9b9e-4dc8-e452-781ec651022d"
      },
      "source": [
        "from google.colab import files\n",
        "uploaded = files.upload()"
      ],
      "execution_count": 1,
      "outputs": [
        {
          "output_type": "display_data",
          "data": {
            "text/html": [
              "\n",
              "     <input type=\"file\" id=\"files-8bd2be76-cfaf-47f2-bb9d-b47912e0e3ca\" name=\"files[]\" multiple disabled\n",
              "        style=\"border:none\" />\n",
              "     <output id=\"result-8bd2be76-cfaf-47f2-bb9d-b47912e0e3ca\">\n",
              "      Upload widget is only available when the cell has been executed in the\n",
              "      current browser session. Please rerun this cell to enable.\n",
              "      </output>\n",
              "      <script src=\"/nbextensions/google.colab/files.js\"></script> "
            ],
            "text/plain": [
              "<IPython.core.display.HTML object>"
            ]
          },
          "metadata": {}
        },
        {
          "output_type": "stream",
          "name": "stdout",
          "text": [
            "Saving registros_autos_entrenamiento - Hoja1.csv to registros_autos_entrenamiento - Hoja1.csv\n"
          ]
        }
      ]
    },
    {
      "cell_type": "code",
      "metadata": {
        "colab": {
          "base_uri": "https://localhost:8080/",
          "height": 205
        },
        "id": "uZm6BsvYxH6N",
        "outputId": "47a46fed-734b-4e37-e74c-4652d9da17d3"
      },
      "source": [
        "import pandas as pd \n",
        "import time\n",
        "import numpy as np\n",
        "import random\n",
        "import pickle\n",
        "\n",
        "df = pd.read_csv(\"registros_autos_entrenamiento - Hoja1.csv\") \n",
        "\n",
        "df.head()"
      ],
      "execution_count": 2,
      "outputs": [
        {
          "output_type": "execute_result",
          "data": {
            "text/html": [
              "<div>\n",
              "<style scoped>\n",
              "    .dataframe tbody tr th:only-of-type {\n",
              "        vertical-align: middle;\n",
              "    }\n",
              "\n",
              "    .dataframe tbody tr th {\n",
              "        vertical-align: top;\n",
              "    }\n",
              "\n",
              "    .dataframe thead th {\n",
              "        text-align: right;\n",
              "    }\n",
              "</style>\n",
              "<table border=\"1\" class=\"dataframe\">\n",
              "  <thead>\n",
              "    <tr style=\"text-align: right;\">\n",
              "      <th></th>\n",
              "      <th>Fecha</th>\n",
              "      <th>Unidades</th>\n",
              "    </tr>\n",
              "  </thead>\n",
              "  <tbody>\n",
              "    <tr>\n",
              "      <th>0</th>\n",
              "      <td>1/1/2012</td>\n",
              "      <td>0</td>\n",
              "    </tr>\n",
              "    <tr>\n",
              "      <th>1</th>\n",
              "      <td>2/1/2012</td>\n",
              "      <td>188</td>\n",
              "    </tr>\n",
              "    <tr>\n",
              "      <th>2</th>\n",
              "      <td>3/1/2012</td>\n",
              "      <td>482</td>\n",
              "    </tr>\n",
              "    <tr>\n",
              "      <th>3</th>\n",
              "      <td>4/1/2012</td>\n",
              "      <td>927</td>\n",
              "    </tr>\n",
              "    <tr>\n",
              "      <th>4</th>\n",
              "      <td>5/1/2012</td>\n",
              "      <td>1159</td>\n",
              "    </tr>\n",
              "  </tbody>\n",
              "</table>\n",
              "</div>"
            ],
            "text/plain": [
              "      Fecha  Unidades\n",
              "0  1/1/2012         0\n",
              "1  2/1/2012       188\n",
              "2  3/1/2012       482\n",
              "3  4/1/2012       927\n",
              "4  5/1/2012      1159"
            ]
          },
          "metadata": {},
          "execution_count": 2
        }
      ]
    },
    {
      "cell_type": "markdown",
      "metadata": {
        "id": "kGIooefUGmKm"
      },
      "source": [
        "# Preprocesamiento de los datos"
      ]
    },
    {
      "cell_type": "markdown",
      "metadata": {
        "id": "6qkXg2xxGOqn"
      },
      "source": [
        "Importamos y convertimos a dataframe, cambiamos el formato de la fecha de string a datetime\n"
      ]
    },
    {
      "cell_type": "code",
      "metadata": {
        "colab": {
          "base_uri": "https://localhost:8080/",
          "height": 205
        },
        "id": "pwOdYIVzThXc",
        "outputId": "2eafb251-791d-46b4-84d5-7d90678947df"
      },
      "source": [
        "df.Fecha = pd.to_datetime(df.Fecha, format= '%d/%m/%Y' )\n",
        "df.head()"
      ],
      "execution_count": 3,
      "outputs": [
        {
          "output_type": "execute_result",
          "data": {
            "text/html": [
              "<div>\n",
              "<style scoped>\n",
              "    .dataframe tbody tr th:only-of-type {\n",
              "        vertical-align: middle;\n",
              "    }\n",
              "\n",
              "    .dataframe tbody tr th {\n",
              "        vertical-align: top;\n",
              "    }\n",
              "\n",
              "    .dataframe thead th {\n",
              "        text-align: right;\n",
              "    }\n",
              "</style>\n",
              "<table border=\"1\" class=\"dataframe\">\n",
              "  <thead>\n",
              "    <tr style=\"text-align: right;\">\n",
              "      <th></th>\n",
              "      <th>Fecha</th>\n",
              "      <th>Unidades</th>\n",
              "    </tr>\n",
              "  </thead>\n",
              "  <tbody>\n",
              "    <tr>\n",
              "      <th>0</th>\n",
              "      <td>2012-01-01</td>\n",
              "      <td>0</td>\n",
              "    </tr>\n",
              "    <tr>\n",
              "      <th>1</th>\n",
              "      <td>2012-01-02</td>\n",
              "      <td>188</td>\n",
              "    </tr>\n",
              "    <tr>\n",
              "      <th>2</th>\n",
              "      <td>2012-01-03</td>\n",
              "      <td>482</td>\n",
              "    </tr>\n",
              "    <tr>\n",
              "      <th>3</th>\n",
              "      <td>2012-01-04</td>\n",
              "      <td>927</td>\n",
              "    </tr>\n",
              "    <tr>\n",
              "      <th>4</th>\n",
              "      <td>2012-01-05</td>\n",
              "      <td>1159</td>\n",
              "    </tr>\n",
              "  </tbody>\n",
              "</table>\n",
              "</div>"
            ],
            "text/plain": [
              "       Fecha  Unidades\n",
              "0 2012-01-01         0\n",
              "1 2012-01-02       188\n",
              "2 2012-01-03       482\n",
              "3 2012-01-04       927\n",
              "4 2012-01-05      1159"
            ]
          },
          "metadata": {},
          "execution_count": 3
        }
      ]
    },
    {
      "cell_type": "markdown",
      "metadata": {
        "id": "leuL0bJYGXed"
      },
      "source": [
        "Obtenemos el mes desde la fecha para usarlo como variable"
      ]
    },
    {
      "cell_type": "code",
      "metadata": {
        "id": "9n1sxoDIx02k"
      },
      "source": [
        "def get_month(fecha):\n",
        "  return fecha.month\n",
        "df ['Mes'] = df.Fecha.apply(get_month)"
      ],
      "execution_count": 4,
      "outputs": []
    },
    {
      "cell_type": "code",
      "metadata": {
        "colab": {
          "base_uri": "https://localhost:8080/",
          "height": 205
        },
        "id": "ns2HHyCp1hY7",
        "outputId": "ce81a142-4cd4-4131-b29a-83aa477a3ef9"
      },
      "source": [
        "df.head()"
      ],
      "execution_count": 5,
      "outputs": [
        {
          "output_type": "execute_result",
          "data": {
            "text/html": [
              "<div>\n",
              "<style scoped>\n",
              "    .dataframe tbody tr th:only-of-type {\n",
              "        vertical-align: middle;\n",
              "    }\n",
              "\n",
              "    .dataframe tbody tr th {\n",
              "        vertical-align: top;\n",
              "    }\n",
              "\n",
              "    .dataframe thead th {\n",
              "        text-align: right;\n",
              "    }\n",
              "</style>\n",
              "<table border=\"1\" class=\"dataframe\">\n",
              "  <thead>\n",
              "    <tr style=\"text-align: right;\">\n",
              "      <th></th>\n",
              "      <th>Fecha</th>\n",
              "      <th>Unidades</th>\n",
              "      <th>Mes</th>\n",
              "    </tr>\n",
              "  </thead>\n",
              "  <tbody>\n",
              "    <tr>\n",
              "      <th>0</th>\n",
              "      <td>2012-01-01</td>\n",
              "      <td>0</td>\n",
              "      <td>1</td>\n",
              "    </tr>\n",
              "    <tr>\n",
              "      <th>1</th>\n",
              "      <td>2012-01-02</td>\n",
              "      <td>188</td>\n",
              "      <td>1</td>\n",
              "    </tr>\n",
              "    <tr>\n",
              "      <th>2</th>\n",
              "      <td>2012-01-03</td>\n",
              "      <td>482</td>\n",
              "      <td>1</td>\n",
              "    </tr>\n",
              "    <tr>\n",
              "      <th>3</th>\n",
              "      <td>2012-01-04</td>\n",
              "      <td>927</td>\n",
              "      <td>1</td>\n",
              "    </tr>\n",
              "    <tr>\n",
              "      <th>4</th>\n",
              "      <td>2012-01-05</td>\n",
              "      <td>1159</td>\n",
              "      <td>1</td>\n",
              "    </tr>\n",
              "  </tbody>\n",
              "</table>\n",
              "</div>"
            ],
            "text/plain": [
              "       Fecha  Unidades  Mes\n",
              "0 2012-01-01         0    1\n",
              "1 2012-01-02       188    1\n",
              "2 2012-01-03       482    1\n",
              "3 2012-01-04       927    1\n",
              "4 2012-01-05      1159    1"
            ]
          },
          "metadata": {},
          "execution_count": 5
        }
      ]
    },
    {
      "cell_type": "markdown",
      "metadata": {
        "id": "R9zONoIeGd9l"
      },
      "source": [
        "Obtenemos el día de la semana  desde la misma fecha para usarlo como variable "
      ]
    },
    {
      "cell_type": "code",
      "metadata": {
        "id": "9KcotYEI2C-1"
      },
      "source": [
        "def get_weekday(fecha):\n",
        "  return fecha.day_name()\n",
        "df['Día'] = df.Fecha.apply(get_weekday)"
      ],
      "execution_count": 6,
      "outputs": []
    },
    {
      "cell_type": "markdown",
      "metadata": {
        "id": "vggeuyBRGkM-"
      },
      "source": [
        "Tendremos en cuenta otra variable, si es un día de semana ordinario o si es sábado o festivo. De la fecha obtenemos si es sábado o domingo. Manualmente con un calendario tendremos que modificar los festivos"
      ]
    },
    {
      "cell_type": "code",
      "metadata": {
        "colab": {
          "base_uri": "https://localhost:8080/",
          "height": 422
        },
        "id": "qtv6bzml3Sjs",
        "outputId": "07902e7b-dc48-4010-abf7-efa88a249168"
      },
      "source": [
        "def tipo_dia (dia):\n",
        "  a= 0\n",
        "  if (dia == 'Sunday' ): return 'Domingos y festivos'\n",
        "  else: return 'Semana'\n",
        "\n",
        "df ['Tipo de día'] = df['Día'].apply(tipo_dia)\n",
        "df"
      ],
      "execution_count": 7,
      "outputs": [
        {
          "output_type": "execute_result",
          "data": {
            "text/html": [
              "<div>\n",
              "<style scoped>\n",
              "    .dataframe tbody tr th:only-of-type {\n",
              "        vertical-align: middle;\n",
              "    }\n",
              "\n",
              "    .dataframe tbody tr th {\n",
              "        vertical-align: top;\n",
              "    }\n",
              "\n",
              "    .dataframe thead th {\n",
              "        text-align: right;\n",
              "    }\n",
              "</style>\n",
              "<table border=\"1\" class=\"dataframe\">\n",
              "  <thead>\n",
              "    <tr style=\"text-align: right;\">\n",
              "      <th></th>\n",
              "      <th>Fecha</th>\n",
              "      <th>Unidades</th>\n",
              "      <th>Mes</th>\n",
              "      <th>Día</th>\n",
              "      <th>Tipo de día</th>\n",
              "    </tr>\n",
              "  </thead>\n",
              "  <tbody>\n",
              "    <tr>\n",
              "      <th>0</th>\n",
              "      <td>2012-01-01</td>\n",
              "      <td>0</td>\n",
              "      <td>1</td>\n",
              "      <td>Sunday</td>\n",
              "      <td>Domingos y festivos</td>\n",
              "    </tr>\n",
              "    <tr>\n",
              "      <th>1</th>\n",
              "      <td>2012-01-02</td>\n",
              "      <td>188</td>\n",
              "      <td>1</td>\n",
              "      <td>Monday</td>\n",
              "      <td>Semana</td>\n",
              "    </tr>\n",
              "    <tr>\n",
              "      <th>2</th>\n",
              "      <td>2012-01-03</td>\n",
              "      <td>482</td>\n",
              "      <td>1</td>\n",
              "      <td>Tuesday</td>\n",
              "      <td>Semana</td>\n",
              "    </tr>\n",
              "    <tr>\n",
              "      <th>3</th>\n",
              "      <td>2012-01-04</td>\n",
              "      <td>927</td>\n",
              "      <td>1</td>\n",
              "      <td>Wednesday</td>\n",
              "      <td>Semana</td>\n",
              "    </tr>\n",
              "    <tr>\n",
              "      <th>4</th>\n",
              "      <td>2012-01-05</td>\n",
              "      <td>1159</td>\n",
              "      <td>1</td>\n",
              "      <td>Thursday</td>\n",
              "      <td>Semana</td>\n",
              "    </tr>\n",
              "    <tr>\n",
              "      <th>...</th>\n",
              "      <td>...</td>\n",
              "      <td>...</td>\n",
              "      <td>...</td>\n",
              "      <td>...</td>\n",
              "      <td>...</td>\n",
              "    </tr>\n",
              "    <tr>\n",
              "      <th>2187</th>\n",
              "      <td>2017-12-27</td>\n",
              "      <td>2102</td>\n",
              "      <td>12</td>\n",
              "      <td>Wednesday</td>\n",
              "      <td>Semana</td>\n",
              "    </tr>\n",
              "    <tr>\n",
              "      <th>2188</th>\n",
              "      <td>2017-12-28</td>\n",
              "      <td>3449</td>\n",
              "      <td>12</td>\n",
              "      <td>Thursday</td>\n",
              "      <td>Semana</td>\n",
              "    </tr>\n",
              "    <tr>\n",
              "      <th>2189</th>\n",
              "      <td>2017-12-29</td>\n",
              "      <td>1084</td>\n",
              "      <td>12</td>\n",
              "      <td>Friday</td>\n",
              "      <td>Semana</td>\n",
              "    </tr>\n",
              "    <tr>\n",
              "      <th>2190</th>\n",
              "      <td>2017-12-30</td>\n",
              "      <td>18</td>\n",
              "      <td>12</td>\n",
              "      <td>Saturday</td>\n",
              "      <td>Semana</td>\n",
              "    </tr>\n",
              "    <tr>\n",
              "      <th>2191</th>\n",
              "      <td>2017-12-31</td>\n",
              "      <td>0</td>\n",
              "      <td>12</td>\n",
              "      <td>Sunday</td>\n",
              "      <td>Domingos y festivos</td>\n",
              "    </tr>\n",
              "  </tbody>\n",
              "</table>\n",
              "<p>2192 rows × 5 columns</p>\n",
              "</div>"
            ],
            "text/plain": [
              "          Fecha  Unidades  Mes        Día          Tipo de día\n",
              "0    2012-01-01         0    1     Sunday  Domingos y festivos\n",
              "1    2012-01-02       188    1     Monday               Semana\n",
              "2    2012-01-03       482    1    Tuesday               Semana\n",
              "3    2012-01-04       927    1  Wednesday               Semana\n",
              "4    2012-01-05      1159    1   Thursday               Semana\n",
              "...         ...       ...  ...        ...                  ...\n",
              "2187 2017-12-27      2102   12  Wednesday               Semana\n",
              "2188 2017-12-28      3449   12   Thursday               Semana\n",
              "2189 2017-12-29      1084   12     Friday               Semana\n",
              "2190 2017-12-30        18   12   Saturday               Semana\n",
              "2191 2017-12-31         0   12     Sunday  Domingos y festivos\n",
              "\n",
              "[2192 rows x 5 columns]"
            ]
          },
          "metadata": {},
          "execution_count": 7
        }
      ]
    },
    {
      "cell_type": "code",
      "metadata": {
        "id": "RdDgSP40dps3",
        "colab": {
          "base_uri": "https://localhost:8080/",
          "height": 205
        },
        "outputId": "8e757f8a-ecbc-4ba0-b76b-7b894ab20e55"
      },
      "source": [
        "def get_day(fecha):\n",
        "    return fecha.day\n",
        "df ['Día del mes'] = df.Fecha.apply(get_day)\n",
        "\n",
        "df.head()"
      ],
      "execution_count": 8,
      "outputs": [
        {
          "output_type": "execute_result",
          "data": {
            "text/html": [
              "<div>\n",
              "<style scoped>\n",
              "    .dataframe tbody tr th:only-of-type {\n",
              "        vertical-align: middle;\n",
              "    }\n",
              "\n",
              "    .dataframe tbody tr th {\n",
              "        vertical-align: top;\n",
              "    }\n",
              "\n",
              "    .dataframe thead th {\n",
              "        text-align: right;\n",
              "    }\n",
              "</style>\n",
              "<table border=\"1\" class=\"dataframe\">\n",
              "  <thead>\n",
              "    <tr style=\"text-align: right;\">\n",
              "      <th></th>\n",
              "      <th>Fecha</th>\n",
              "      <th>Unidades</th>\n",
              "      <th>Mes</th>\n",
              "      <th>Día</th>\n",
              "      <th>Tipo de día</th>\n",
              "      <th>Día del mes</th>\n",
              "    </tr>\n",
              "  </thead>\n",
              "  <tbody>\n",
              "    <tr>\n",
              "      <th>0</th>\n",
              "      <td>2012-01-01</td>\n",
              "      <td>0</td>\n",
              "      <td>1</td>\n",
              "      <td>Sunday</td>\n",
              "      <td>Domingos y festivos</td>\n",
              "      <td>1</td>\n",
              "    </tr>\n",
              "    <tr>\n",
              "      <th>1</th>\n",
              "      <td>2012-01-02</td>\n",
              "      <td>188</td>\n",
              "      <td>1</td>\n",
              "      <td>Monday</td>\n",
              "      <td>Semana</td>\n",
              "      <td>2</td>\n",
              "    </tr>\n",
              "    <tr>\n",
              "      <th>2</th>\n",
              "      <td>2012-01-03</td>\n",
              "      <td>482</td>\n",
              "      <td>1</td>\n",
              "      <td>Tuesday</td>\n",
              "      <td>Semana</td>\n",
              "      <td>3</td>\n",
              "    </tr>\n",
              "    <tr>\n",
              "      <th>3</th>\n",
              "      <td>2012-01-04</td>\n",
              "      <td>927</td>\n",
              "      <td>1</td>\n",
              "      <td>Wednesday</td>\n",
              "      <td>Semana</td>\n",
              "      <td>4</td>\n",
              "    </tr>\n",
              "    <tr>\n",
              "      <th>4</th>\n",
              "      <td>2012-01-05</td>\n",
              "      <td>1159</td>\n",
              "      <td>1</td>\n",
              "      <td>Thursday</td>\n",
              "      <td>Semana</td>\n",
              "      <td>5</td>\n",
              "    </tr>\n",
              "  </tbody>\n",
              "</table>\n",
              "</div>"
            ],
            "text/plain": [
              "       Fecha  Unidades  Mes        Día          Tipo de día  Día del mes\n",
              "0 2012-01-01         0    1     Sunday  Domingos y festivos            1\n",
              "1 2012-01-02       188    1     Monday               Semana            2\n",
              "2 2012-01-03       482    1    Tuesday               Semana            3\n",
              "3 2012-01-04       927    1  Wednesday               Semana            4\n",
              "4 2012-01-05      1159    1   Thursday               Semana            5"
            ]
          },
          "metadata": {},
          "execution_count": 8
        }
      ]
    },
    {
      "cell_type": "markdown",
      "metadata": {
        "id": "oSgYdOYucF0v"
      },
      "source": [
        "## Carga de los días festivos\n",
        "\n",
        "\n"
      ]
    },
    {
      "cell_type": "code",
      "metadata": {
        "id": "kxB5jaGcEsVr"
      },
      "source": [
        "## 2012\n",
        "df.loc[df.Fecha ==('2012-01-09 00:00:00'), 'Tipo de día'] = \"Domingos y festivos\"\n",
        "df.loc[df.Fecha ==('2012-03-19 00:00:00'), 'Tipo de día'] = \"Domingos y festivos\"\n",
        "df.loc[df.Fecha ==('2012-04-05 00:00:00'), 'Tipo de día'] = \"Domingos y festivos\"\n",
        "df.loc[df.Fecha ==('2012-04-06 00:00:00'), 'Tipo de día'] = \"Domingos y festivos\"\n",
        "df.loc[df.Fecha ==('2012-05-01 00:00:00'), 'Tipo de día'] = \"Domingos y festivos\"\n",
        "df.loc[df.Fecha ==('2012-05-21 00:00:00'), 'Tipo de día'] = \"Domingos y festivos\"\n",
        "df.loc[df.Fecha ==('2012-06-11 00:00:00'), 'Tipo de día'] = \"Domingos y festivos\"\n",
        "df.loc[df.Fecha ==('2012-06-18 00:00:00'), 'Tipo de día'] = \"Domingos y festivos\"\n",
        "df.loc[df.Fecha ==('2012-07-02 00:00:00'), 'Tipo de día'] = \"Domingos y festivos\"\n",
        "df.loc[df.Fecha ==('2012-07-20 00:00:00'), 'Tipo de día'] = \"Domingos y festivos\"\n",
        "df.loc[df.Fecha ==('2012-08-07 00:00:00'), 'Tipo de día'] = \"Domingos y festivos\"\n",
        "df.loc[df.Fecha ==('2012-08-20 00:00:00'), 'Tipo de día'] = \"Domingos y festivos\"\n",
        "df.loc[df.Fecha ==('2012-10-15 00:00:00'), 'Tipo de día'] = \"Domingos y festivos\"\n",
        "df.loc[df.Fecha ==('2012-11-05 00:00:00'), 'Tipo de día'] = \"Domingos y festivos\"\n",
        "df.loc[df.Fecha ==('2012-11-12 00:00:00'), 'Tipo de día'] = \"Domingos y festivos\"\n",
        "df.loc[df.Fecha ==('2012-12-08 00:00:00'), 'Tipo de día'] = \"Domingos y festivos\"\n",
        "df.loc[df.Fecha ==('2012-12-25 00:00:00'), 'Tipo de día'] = \"Domingos y festivos\"\n",
        "\n",
        "##2013\n",
        "df.loc[df.Fecha ==('2013-01-01 00:00:00'), 'Tipo de día'] = \"Domingos y festivos\"\n",
        "df.loc[df.Fecha ==('2013-01-07 00:00:00'), 'Tipo de día'] = \"Domingos y festivos\"\n",
        "df.loc[df.Fecha ==('2013-03-25 00:00:00'), 'Tipo de día'] = \"Domingos y festivos\"\n",
        "df.loc[df.Fecha ==('2013-03-28 00:00:00'), 'Tipo de día'] = \"Domingos y festivos\"\n",
        "df.loc[df.Fecha ==('2013-03-29 00:00:00'), 'Tipo de día'] = \"Domingos y festivos\"\n",
        "df.loc[df.Fecha ==('2013-05-01 00:00:00'), 'Tipo de día'] = \"Domingos y festivos\"\n",
        "df.loc[df.Fecha ==('2013-05-13 00:00:00'), 'Tipo de día'] = \"Domingos y festivos\"\n",
        "df.loc[df.Fecha ==('2013-06-03 00:00:00'), 'Tipo de día'] = \"Domingos y festivos\"\n",
        "df.loc[df.Fecha ==('2013-06-10 00:00:00'), 'Tipo de día'] = \"Domingos y festivos\"\n",
        "df.loc[df.Fecha ==('2013-07-01 00:00:00'), 'Tipo de día'] = \"Domingos y festivos\"\n",
        "df.loc[df.Fecha ==('2013-07-20 00:00:00'), 'Tipo de día'] = \"Domingos y festivos\"\n",
        "df.loc[df.Fecha ==('2013-08-17 00:00:00'), 'Tipo de día'] = \"Domingos y festivos\"\n",
        "df.loc[df.Fecha ==('2013-08-19 00:00:00'), 'Tipo de día'] = \"Domingos y festivos\"\n",
        "df.loc[df.Fecha ==('2013-10-14 00:00:00'), 'Tipo de día'] = \"Domingos y festivos\"\n",
        "df.loc[df.Fecha ==('2013-11-04 00:00:00'), 'Tipo de día'] = \"Domingos y festivos\"\n",
        "df.loc[df.Fecha ==('2013-11-11 00:00:00'), 'Tipo de día'] = \"Domingos y festivos\"\n",
        "df.loc[df.Fecha ==('2013-12-25 00:00:00'), 'Tipo de día'] = \"Domingos y festivos\"\n",
        "\n",
        "##2014\n",
        "df.loc[df.Fecha ==('2014-01-01 00:00:00'), 'Tipo de día'] = \"Domingos y festivos\"\n",
        "df.loc[df.Fecha ==('2014-01-06 00:00:00'), 'Tipo de día'] = \"Domingos y festivos\"\n",
        "df.loc[df.Fecha ==('2014-03-24 00:00:00'), 'Tipo de día'] = \"Domingos y festivos\"\n",
        "df.loc[df.Fecha ==('2014-04-17 00:00:00'), 'Tipo de día'] = \"Domingos y festivos\"\n",
        "df.loc[df.Fecha ==('2014-04-18 00:00:00'), 'Tipo de día'] = \"Domingos y festivos\"\n",
        "df.loc[df.Fecha ==('2014-05-01 00:00:00'), 'Tipo de día'] = \"Domingos y festivos\"\n",
        "df.loc[df.Fecha ==('2014-06-02 00:00:00'), 'Tipo de día'] = \"Domingos y festivos\"\n",
        "df.loc[df.Fecha ==('2014-06-23 00:00:00'), 'Tipo de día'] = \"Domingos y festivos\"\n",
        "df.loc[df.Fecha ==('2014-06-30 00:00:00'), 'Tipo de día'] = \"Domingos y festivos\"\n",
        "df.loc[df.Fecha ==('2014-08-07 00:00:00'), 'Tipo de día'] = \"Domingos y festivos\"\n",
        "df.loc[df.Fecha ==('2014-08-18 00:00:00'), 'Tipo de día'] = \"Domingos y festivos\"\n",
        "df.loc[df.Fecha ==('2014-10-13 00:00:00'), 'Tipo de día'] = \"Domingos y festivos\"\n",
        "df.loc[df.Fecha ==('2014-11-03 00:00:00'), 'Tipo de día'] = \"Domingos y festivos\"\n",
        "df.loc[df.Fecha ==('2014-11-17 00:00:00'), 'Tipo de día'] = \"Domingos y festivos\"\n",
        "df.loc[df.Fecha ==('2014-12-08 00:00:00'), 'Tipo de día'] = \"Domingos y festivos\"\n",
        "df.loc[df.Fecha ==('2014-12-25 00:00:00'), 'Tipo de día'] = \"Domingos y festivos\"\n",
        "\n",
        "## 2015\n",
        "df.loc[df.Fecha ==('2015-01-01 00:00:00'), 'Tipo de día'] = \"Domingos y festivos\"\n",
        "df.loc[df.Fecha ==('2015-01-12 00:00:00'), 'Tipo de día'] = \"Domingos y festivos\"\n",
        "df.loc[df.Fecha ==('2015-03-23 00:00:00'), 'Tipo de día'] = \"Domingos y festivos\"\n",
        "df.loc[df.Fecha ==('2015-04-02 00:00:00'), 'Tipo de día'] = \"Domingos y festivos\"\n",
        "df.loc[df.Fecha ==('2015-04-03 00:00:00'), 'Tipo de día'] = \"Domingos y festivos\"\n",
        "df.loc[df.Fecha ==('2015-05-01 00:00:00'), 'Tipo de día'] = \"Domingos y festivos\"\n",
        "df.loc[df.Fecha ==('2015-05-18 00:00:00'), 'Tipo de día'] = \"Domingos y festivos\"\n",
        "df.loc[df.Fecha ==('2015-06-08 00:00:00'), 'Tipo de día'] = \"Domingos y festivos\"\n",
        "df.loc[df.Fecha ==('2015-06-15 00:00:00'), 'Tipo de día'] = \"Domingos y festivos\"\n",
        "df.loc[df.Fecha ==('2015-06-29 00:00:00'), 'Tipo de día'] = \"Domingos y festivos\"\n",
        "df.loc[df.Fecha ==('2015-07-20 00:00:00'), 'Tipo de día'] = \"Domingos y festivos\"\n",
        "df.loc[df.Fecha ==('2015-08-07 00:00:00'), 'Tipo de día'] = \"Domingos y festivos\"\n",
        "df.loc[df.Fecha ==('2015-08-17 00:00:00'), 'Tipo de día'] = \"Domingos y festivos\"\n",
        "df.loc[df.Fecha ==('2015-10-12 00:00:00'), 'Tipo de día'] = \"Domingos y festivos\"\n",
        "df.loc[df.Fecha ==('2015-11-02 00:00:00'), 'Tipo de día'] = \"Domingos y festivos\"\n",
        "df.loc[df.Fecha ==('2015-11-16 00:00:00'), 'Tipo de día'] = \"Domingos y festivos\"\n",
        "df.loc[df.Fecha ==('2015-12-08 00:00:00'), 'Tipo de día'] = \"Domingos y festivos\"\n",
        "df.loc[df.Fecha ==('2015-12-25 00:00:00'), 'Tipo de día'] = \"Domingos y festivos\"\n",
        "\n",
        "## 2016\n",
        "df.loc[df.Fecha ==('2016-01-01 00:00:00'), 'Tipo de día'] = \"Domingos y festivos\"\n",
        "df.loc[df.Fecha ==('2016-01-11 00:00:00'), 'Tipo de día'] = \"Domingos y festivos\"\n",
        "df.loc[df.Fecha ==('2016-03-21 00:00:00'), 'Tipo de día'] = \"Domingos y festivos\"\n",
        "df.loc[df.Fecha ==('2016-03-24 00:00:00'), 'Tipo de día'] = \"Domingos y festivos\"\n",
        "df.loc[df.Fecha ==('2016-03-25 00:00:00'), 'Tipo de día'] = \"Domingos y festivos\"\n",
        "df.loc[df.Fecha ==('2016-05-09 00:00:00'), 'Tipo de día'] = \"Domingos y festivos\"\n",
        "df.loc[df.Fecha ==('2016-05-30 00:00:00'), 'Tipo de día'] = \"Domingos y festivos\"\n",
        "df.loc[df.Fecha ==('2016-06-06 00:00:00'), 'Tipo de día'] = \"Domingos y festivos\"\n",
        "df.loc[df.Fecha ==('2016-07-04 00:00:00'), 'Tipo de día'] = \"Domingos y festivos\"\n",
        "df.loc[df.Fecha ==('2016-07-20 00:00:00'), 'Tipo de día'] = \"Domingos y festivos\"\n",
        "df.loc[df.Fecha ==('2016-08-15 00:00:00'), 'Tipo de día'] = \"Domingos y festivos\"\n",
        "df.loc[df.Fecha ==('2016-10-17 00:00:00'), 'Tipo de día'] = \"Domingos y festivos\"\n",
        "df.loc[df.Fecha ==('2016-11-07 00:00:00'), 'Tipo de día'] = \"Domingos y festivos\"\n",
        "df.loc[df.Fecha ==('2016-11-14 00:00:00'), 'Tipo de día'] = \"Domingos y festivos\"\n",
        "df.loc[df.Fecha ==('2016-12-08 00:00:00'), 'Tipo de día'] = \"Domingos y festivos\"\n",
        "\n",
        "##2017\n",
        "df.loc[df.Fecha ==('2017-01-09 00:00:00'), 'Tipo de día'] = \"Domingos y festivos\"\n",
        "df.loc[df.Fecha ==('2017-03-20 00:00:00'), 'Tipo de día'] = \"Domingos y festivos\"\n",
        "df.loc[df.Fecha ==('2017-04-13 00:00:00'), 'Tipo de día'] = \"Domingos y festivos\"\n",
        "df.loc[df.Fecha ==('2017-04-14 00:00:00'), 'Tipo de día'] = \"Domingos y festivos\"\n",
        "df.loc[df.Fecha ==('2017-05-01 00:00:00'), 'Tipo de día'] = \"Domingos y festivos\"\n",
        "df.loc[df.Fecha ==('2017-05-29 00:00:00'), 'Tipo de día'] = \"Domingos y festivos\"\n",
        "df.loc[df.Fecha ==('2017-06-19 00:00:00'), 'Tipo de día'] = \"Domingos y festivos\"\n",
        "df.loc[df.Fecha ==('2017-06-26 00:00:00'), 'Tipo de día'] = \"Domingos y festivos\"\n",
        "df.loc[df.Fecha ==('2017-07-03 00:00:00'), 'Tipo de día'] = \"Domingos y festivos\"\n",
        "df.loc[df.Fecha ==('2017-07-20 00:00:00'), 'Tipo de día'] = \"Domingos y festivos\"\n",
        "df.loc[df.Fecha ==('2017-08-07 00:00:00'), 'Tipo de día'] = \"Domingos y festivos\"\n",
        "df.loc[df.Fecha ==('2017-08-21 00:00:00'), 'Tipo de día'] = \"Domingos y festivos\"\n",
        "df.loc[df.Fecha ==('2017-10-16 00:00:00'), 'Tipo de día'] = \"Domingos y festivos\"\n",
        "df.loc[df.Fecha ==('2017-11-06 00:00:00'), 'Tipo de día'] = \"Domingos y festivos\"\n",
        "df.loc[df.Fecha ==('2017-11-13 00:00:00'), 'Tipo de día'] = \"Domingos y festivos\"\n",
        "df.loc[df.Fecha ==('2017-12-08 00:00:00'), 'Tipo de día'] = \"Domingos y festivos\"\n",
        "df.loc[df.Fecha ==('2017-12-25 00:00:00'), 'Tipo de día'] = \"Domingos y festivos\"\n"
      ],
      "execution_count": 9,
      "outputs": []
    },
    {
      "cell_type": "code",
      "metadata": {
        "colab": {
          "base_uri": "https://localhost:8080/",
          "height": 205
        },
        "id": "RcxTEdhGPa3Z",
        "outputId": "10e726b9-f597-4d79-b4f7-7d713776f6ab"
      },
      "source": [
        "df.head()"
      ],
      "execution_count": 10,
      "outputs": [
        {
          "output_type": "execute_result",
          "data": {
            "text/html": [
              "<div>\n",
              "<style scoped>\n",
              "    .dataframe tbody tr th:only-of-type {\n",
              "        vertical-align: middle;\n",
              "    }\n",
              "\n",
              "    .dataframe tbody tr th {\n",
              "        vertical-align: top;\n",
              "    }\n",
              "\n",
              "    .dataframe thead th {\n",
              "        text-align: right;\n",
              "    }\n",
              "</style>\n",
              "<table border=\"1\" class=\"dataframe\">\n",
              "  <thead>\n",
              "    <tr style=\"text-align: right;\">\n",
              "      <th></th>\n",
              "      <th>Fecha</th>\n",
              "      <th>Unidades</th>\n",
              "      <th>Mes</th>\n",
              "      <th>Día</th>\n",
              "      <th>Tipo de día</th>\n",
              "      <th>Día del mes</th>\n",
              "    </tr>\n",
              "  </thead>\n",
              "  <tbody>\n",
              "    <tr>\n",
              "      <th>0</th>\n",
              "      <td>2012-01-01</td>\n",
              "      <td>0</td>\n",
              "      <td>1</td>\n",
              "      <td>Sunday</td>\n",
              "      <td>Domingos y festivos</td>\n",
              "      <td>1</td>\n",
              "    </tr>\n",
              "    <tr>\n",
              "      <th>1</th>\n",
              "      <td>2012-01-02</td>\n",
              "      <td>188</td>\n",
              "      <td>1</td>\n",
              "      <td>Monday</td>\n",
              "      <td>Semana</td>\n",
              "      <td>2</td>\n",
              "    </tr>\n",
              "    <tr>\n",
              "      <th>2</th>\n",
              "      <td>2012-01-03</td>\n",
              "      <td>482</td>\n",
              "      <td>1</td>\n",
              "      <td>Tuesday</td>\n",
              "      <td>Semana</td>\n",
              "      <td>3</td>\n",
              "    </tr>\n",
              "    <tr>\n",
              "      <th>3</th>\n",
              "      <td>2012-01-04</td>\n",
              "      <td>927</td>\n",
              "      <td>1</td>\n",
              "      <td>Wednesday</td>\n",
              "      <td>Semana</td>\n",
              "      <td>4</td>\n",
              "    </tr>\n",
              "    <tr>\n",
              "      <th>4</th>\n",
              "      <td>2012-01-05</td>\n",
              "      <td>1159</td>\n",
              "      <td>1</td>\n",
              "      <td>Thursday</td>\n",
              "      <td>Semana</td>\n",
              "      <td>5</td>\n",
              "    </tr>\n",
              "  </tbody>\n",
              "</table>\n",
              "</div>"
            ],
            "text/plain": [
              "       Fecha  Unidades  Mes        Día          Tipo de día  Día del mes\n",
              "0 2012-01-01         0    1     Sunday  Domingos y festivos            1\n",
              "1 2012-01-02       188    1     Monday               Semana            2\n",
              "2 2012-01-03       482    1    Tuesday               Semana            3\n",
              "3 2012-01-04       927    1  Wednesday               Semana            4\n",
              "4 2012-01-05      1159    1   Thursday               Semana            5"
            ]
          },
          "metadata": {},
          "execution_count": 10
        }
      ]
    },
    {
      "cell_type": "markdown",
      "metadata": {
        "id": "I635UkYIP9MJ"
      },
      "source": [
        "Analizaremos los días que se vendieron 0 unidades "
      ]
    },
    {
      "cell_type": "code",
      "metadata": {
        "colab": {
          "base_uri": "https://localhost:8080/",
          "height": 422
        },
        "id": "lYLxRXBQ7RY9",
        "outputId": "997e3754-a9ec-493a-982b-7368bfe5b216"
      },
      "source": [
        "a = df[df.Unidades == 0]\n",
        "a[[\"Tipo de día\", \"Unidades\"]]"
      ],
      "execution_count": 11,
      "outputs": [
        {
          "output_type": "execute_result",
          "data": {
            "text/html": [
              "<div>\n",
              "<style scoped>\n",
              "    .dataframe tbody tr th:only-of-type {\n",
              "        vertical-align: middle;\n",
              "    }\n",
              "\n",
              "    .dataframe tbody tr th {\n",
              "        vertical-align: top;\n",
              "    }\n",
              "\n",
              "    .dataframe thead th {\n",
              "        text-align: right;\n",
              "    }\n",
              "</style>\n",
              "<table border=\"1\" class=\"dataframe\">\n",
              "  <thead>\n",
              "    <tr style=\"text-align: right;\">\n",
              "      <th></th>\n",
              "      <th>Tipo de día</th>\n",
              "      <th>Unidades</th>\n",
              "    </tr>\n",
              "  </thead>\n",
              "  <tbody>\n",
              "    <tr>\n",
              "      <th>0</th>\n",
              "      <td>Domingos y festivos</td>\n",
              "      <td>0</td>\n",
              "    </tr>\n",
              "    <tr>\n",
              "      <th>7</th>\n",
              "      <td>Domingos y festivos</td>\n",
              "      <td>0</td>\n",
              "    </tr>\n",
              "    <tr>\n",
              "      <th>8</th>\n",
              "      <td>Domingos y festivos</td>\n",
              "      <td>0</td>\n",
              "    </tr>\n",
              "    <tr>\n",
              "      <th>21</th>\n",
              "      <td>Domingos y festivos</td>\n",
              "      <td>0</td>\n",
              "    </tr>\n",
              "    <tr>\n",
              "      <th>35</th>\n",
              "      <td>Domingos y festivos</td>\n",
              "      <td>0</td>\n",
              "    </tr>\n",
              "    <tr>\n",
              "      <th>...</th>\n",
              "      <td>...</td>\n",
              "      <td>...</td>\n",
              "    </tr>\n",
              "    <tr>\n",
              "      <th>2170</th>\n",
              "      <td>Domingos y festivos</td>\n",
              "      <td>0</td>\n",
              "    </tr>\n",
              "    <tr>\n",
              "      <th>2177</th>\n",
              "      <td>Domingos y festivos</td>\n",
              "      <td>0</td>\n",
              "    </tr>\n",
              "    <tr>\n",
              "      <th>2184</th>\n",
              "      <td>Domingos y festivos</td>\n",
              "      <td>0</td>\n",
              "    </tr>\n",
              "    <tr>\n",
              "      <th>2185</th>\n",
              "      <td>Domingos y festivos</td>\n",
              "      <td>0</td>\n",
              "    </tr>\n",
              "    <tr>\n",
              "      <th>2191</th>\n",
              "      <td>Domingos y festivos</td>\n",
              "      <td>0</td>\n",
              "    </tr>\n",
              "  </tbody>\n",
              "</table>\n",
              "<p>272 rows × 2 columns</p>\n",
              "</div>"
            ],
            "text/plain": [
              "              Tipo de día  Unidades\n",
              "0     Domingos y festivos         0\n",
              "7     Domingos y festivos         0\n",
              "8     Domingos y festivos         0\n",
              "21    Domingos y festivos         0\n",
              "35    Domingos y festivos         0\n",
              "...                   ...       ...\n",
              "2170  Domingos y festivos         0\n",
              "2177  Domingos y festivos         0\n",
              "2184  Domingos y festivos         0\n",
              "2185  Domingos y festivos         0\n",
              "2191  Domingos y festivos         0\n",
              "\n",
              "[272 rows x 2 columns]"
            ]
          },
          "metadata": {},
          "execution_count": 11
        }
      ]
    },
    {
      "cell_type": "markdown",
      "metadata": {
        "id": "2hjUHIzdQC0x"
      },
      "source": [
        "Al parecer está directamente relacionado con ser sábado o festivo, como la siguiente tabla tiene la misma cantidad de filas que la anterior, sabemos que los sábados y los festivos la cantidad de carros registrados es 0"
      ]
    },
    {
      "cell_type": "code",
      "metadata": {
        "colab": {
          "base_uri": "https://localhost:8080/",
          "height": 422
        },
        "id": "iBd1Y6BPCD1H",
        "outputId": "4dcc9bd6-e896-4981-dd88-7238795dd68f"
      },
      "source": [
        "c = (a[a['Tipo de día'] == 'Domingos y festivos'])\n",
        "c"
      ],
      "execution_count": 12,
      "outputs": [
        {
          "output_type": "execute_result",
          "data": {
            "text/html": [
              "<div>\n",
              "<style scoped>\n",
              "    .dataframe tbody tr th:only-of-type {\n",
              "        vertical-align: middle;\n",
              "    }\n",
              "\n",
              "    .dataframe tbody tr th {\n",
              "        vertical-align: top;\n",
              "    }\n",
              "\n",
              "    .dataframe thead th {\n",
              "        text-align: right;\n",
              "    }\n",
              "</style>\n",
              "<table border=\"1\" class=\"dataframe\">\n",
              "  <thead>\n",
              "    <tr style=\"text-align: right;\">\n",
              "      <th></th>\n",
              "      <th>Fecha</th>\n",
              "      <th>Unidades</th>\n",
              "      <th>Mes</th>\n",
              "      <th>Día</th>\n",
              "      <th>Tipo de día</th>\n",
              "      <th>Día del mes</th>\n",
              "    </tr>\n",
              "  </thead>\n",
              "  <tbody>\n",
              "    <tr>\n",
              "      <th>0</th>\n",
              "      <td>2012-01-01</td>\n",
              "      <td>0</td>\n",
              "      <td>1</td>\n",
              "      <td>Sunday</td>\n",
              "      <td>Domingos y festivos</td>\n",
              "      <td>1</td>\n",
              "    </tr>\n",
              "    <tr>\n",
              "      <th>7</th>\n",
              "      <td>2012-01-08</td>\n",
              "      <td>0</td>\n",
              "      <td>1</td>\n",
              "      <td>Sunday</td>\n",
              "      <td>Domingos y festivos</td>\n",
              "      <td>8</td>\n",
              "    </tr>\n",
              "    <tr>\n",
              "      <th>8</th>\n",
              "      <td>2012-01-09</td>\n",
              "      <td>0</td>\n",
              "      <td>1</td>\n",
              "      <td>Monday</td>\n",
              "      <td>Domingos y festivos</td>\n",
              "      <td>9</td>\n",
              "    </tr>\n",
              "    <tr>\n",
              "      <th>21</th>\n",
              "      <td>2012-01-22</td>\n",
              "      <td>0</td>\n",
              "      <td>1</td>\n",
              "      <td>Sunday</td>\n",
              "      <td>Domingos y festivos</td>\n",
              "      <td>22</td>\n",
              "    </tr>\n",
              "    <tr>\n",
              "      <th>35</th>\n",
              "      <td>2012-02-05</td>\n",
              "      <td>0</td>\n",
              "      <td>2</td>\n",
              "      <td>Sunday</td>\n",
              "      <td>Domingos y festivos</td>\n",
              "      <td>5</td>\n",
              "    </tr>\n",
              "    <tr>\n",
              "      <th>...</th>\n",
              "      <td>...</td>\n",
              "      <td>...</td>\n",
              "      <td>...</td>\n",
              "      <td>...</td>\n",
              "      <td>...</td>\n",
              "      <td>...</td>\n",
              "    </tr>\n",
              "    <tr>\n",
              "      <th>2170</th>\n",
              "      <td>2017-12-10</td>\n",
              "      <td>0</td>\n",
              "      <td>12</td>\n",
              "      <td>Sunday</td>\n",
              "      <td>Domingos y festivos</td>\n",
              "      <td>10</td>\n",
              "    </tr>\n",
              "    <tr>\n",
              "      <th>2177</th>\n",
              "      <td>2017-12-17</td>\n",
              "      <td>0</td>\n",
              "      <td>12</td>\n",
              "      <td>Sunday</td>\n",
              "      <td>Domingos y festivos</td>\n",
              "      <td>17</td>\n",
              "    </tr>\n",
              "    <tr>\n",
              "      <th>2184</th>\n",
              "      <td>2017-12-24</td>\n",
              "      <td>0</td>\n",
              "      <td>12</td>\n",
              "      <td>Sunday</td>\n",
              "      <td>Domingos y festivos</td>\n",
              "      <td>24</td>\n",
              "    </tr>\n",
              "    <tr>\n",
              "      <th>2185</th>\n",
              "      <td>2017-12-25</td>\n",
              "      <td>0</td>\n",
              "      <td>12</td>\n",
              "      <td>Monday</td>\n",
              "      <td>Domingos y festivos</td>\n",
              "      <td>25</td>\n",
              "    </tr>\n",
              "    <tr>\n",
              "      <th>2191</th>\n",
              "      <td>2017-12-31</td>\n",
              "      <td>0</td>\n",
              "      <td>12</td>\n",
              "      <td>Sunday</td>\n",
              "      <td>Domingos y festivos</td>\n",
              "      <td>31</td>\n",
              "    </tr>\n",
              "  </tbody>\n",
              "</table>\n",
              "<p>269 rows × 6 columns</p>\n",
              "</div>"
            ],
            "text/plain": [
              "          Fecha  Unidades  Mes     Día          Tipo de día  Día del mes\n",
              "0    2012-01-01         0    1  Sunday  Domingos y festivos            1\n",
              "7    2012-01-08         0    1  Sunday  Domingos y festivos            8\n",
              "8    2012-01-09         0    1  Monday  Domingos y festivos            9\n",
              "21   2012-01-22         0    1  Sunday  Domingos y festivos           22\n",
              "35   2012-02-05         0    2  Sunday  Domingos y festivos            5\n",
              "...         ...       ...  ...     ...                  ...          ...\n",
              "2170 2017-12-10         0   12  Sunday  Domingos y festivos           10\n",
              "2177 2017-12-17         0   12  Sunday  Domingos y festivos           17\n",
              "2184 2017-12-24         0   12  Sunday  Domingos y festivos           24\n",
              "2185 2017-12-25         0   12  Monday  Domingos y festivos           25\n",
              "2191 2017-12-31         0   12  Sunday  Domingos y festivos           31\n",
              "\n",
              "[269 rows x 6 columns]"
            ]
          },
          "metadata": {},
          "execution_count": 12
        }
      ]
    },
    {
      "cell_type": "code",
      "metadata": {
        "colab": {
          "base_uri": "https://localhost:8080/",
          "height": 422
        },
        "id": "TIOgBkQGa7ZZ",
        "outputId": "65cedd9d-9135-493c-d20d-58a5e8dfec77"
      },
      "source": [
        "df"
      ],
      "execution_count": 13,
      "outputs": [
        {
          "output_type": "execute_result",
          "data": {
            "text/html": [
              "<div>\n",
              "<style scoped>\n",
              "    .dataframe tbody tr th:only-of-type {\n",
              "        vertical-align: middle;\n",
              "    }\n",
              "\n",
              "    .dataframe tbody tr th {\n",
              "        vertical-align: top;\n",
              "    }\n",
              "\n",
              "    .dataframe thead th {\n",
              "        text-align: right;\n",
              "    }\n",
              "</style>\n",
              "<table border=\"1\" class=\"dataframe\">\n",
              "  <thead>\n",
              "    <tr style=\"text-align: right;\">\n",
              "      <th></th>\n",
              "      <th>Fecha</th>\n",
              "      <th>Unidades</th>\n",
              "      <th>Mes</th>\n",
              "      <th>Día</th>\n",
              "      <th>Tipo de día</th>\n",
              "      <th>Día del mes</th>\n",
              "    </tr>\n",
              "  </thead>\n",
              "  <tbody>\n",
              "    <tr>\n",
              "      <th>0</th>\n",
              "      <td>2012-01-01</td>\n",
              "      <td>0</td>\n",
              "      <td>1</td>\n",
              "      <td>Sunday</td>\n",
              "      <td>Domingos y festivos</td>\n",
              "      <td>1</td>\n",
              "    </tr>\n",
              "    <tr>\n",
              "      <th>1</th>\n",
              "      <td>2012-01-02</td>\n",
              "      <td>188</td>\n",
              "      <td>1</td>\n",
              "      <td>Monday</td>\n",
              "      <td>Semana</td>\n",
              "      <td>2</td>\n",
              "    </tr>\n",
              "    <tr>\n",
              "      <th>2</th>\n",
              "      <td>2012-01-03</td>\n",
              "      <td>482</td>\n",
              "      <td>1</td>\n",
              "      <td>Tuesday</td>\n",
              "      <td>Semana</td>\n",
              "      <td>3</td>\n",
              "    </tr>\n",
              "    <tr>\n",
              "      <th>3</th>\n",
              "      <td>2012-01-04</td>\n",
              "      <td>927</td>\n",
              "      <td>1</td>\n",
              "      <td>Wednesday</td>\n",
              "      <td>Semana</td>\n",
              "      <td>4</td>\n",
              "    </tr>\n",
              "    <tr>\n",
              "      <th>4</th>\n",
              "      <td>2012-01-05</td>\n",
              "      <td>1159</td>\n",
              "      <td>1</td>\n",
              "      <td>Thursday</td>\n",
              "      <td>Semana</td>\n",
              "      <td>5</td>\n",
              "    </tr>\n",
              "    <tr>\n",
              "      <th>...</th>\n",
              "      <td>...</td>\n",
              "      <td>...</td>\n",
              "      <td>...</td>\n",
              "      <td>...</td>\n",
              "      <td>...</td>\n",
              "      <td>...</td>\n",
              "    </tr>\n",
              "    <tr>\n",
              "      <th>2187</th>\n",
              "      <td>2017-12-27</td>\n",
              "      <td>2102</td>\n",
              "      <td>12</td>\n",
              "      <td>Wednesday</td>\n",
              "      <td>Semana</td>\n",
              "      <td>27</td>\n",
              "    </tr>\n",
              "    <tr>\n",
              "      <th>2188</th>\n",
              "      <td>2017-12-28</td>\n",
              "      <td>3449</td>\n",
              "      <td>12</td>\n",
              "      <td>Thursday</td>\n",
              "      <td>Semana</td>\n",
              "      <td>28</td>\n",
              "    </tr>\n",
              "    <tr>\n",
              "      <th>2189</th>\n",
              "      <td>2017-12-29</td>\n",
              "      <td>1084</td>\n",
              "      <td>12</td>\n",
              "      <td>Friday</td>\n",
              "      <td>Semana</td>\n",
              "      <td>29</td>\n",
              "    </tr>\n",
              "    <tr>\n",
              "      <th>2190</th>\n",
              "      <td>2017-12-30</td>\n",
              "      <td>18</td>\n",
              "      <td>12</td>\n",
              "      <td>Saturday</td>\n",
              "      <td>Semana</td>\n",
              "      <td>30</td>\n",
              "    </tr>\n",
              "    <tr>\n",
              "      <th>2191</th>\n",
              "      <td>2017-12-31</td>\n",
              "      <td>0</td>\n",
              "      <td>12</td>\n",
              "      <td>Sunday</td>\n",
              "      <td>Domingos y festivos</td>\n",
              "      <td>31</td>\n",
              "    </tr>\n",
              "  </tbody>\n",
              "</table>\n",
              "<p>2192 rows × 6 columns</p>\n",
              "</div>"
            ],
            "text/plain": [
              "          Fecha  Unidades  Mes        Día          Tipo de día  Día del mes\n",
              "0    2012-01-01         0    1     Sunday  Domingos y festivos            1\n",
              "1    2012-01-02       188    1     Monday               Semana            2\n",
              "2    2012-01-03       482    1    Tuesday               Semana            3\n",
              "3    2012-01-04       927    1  Wednesday               Semana            4\n",
              "4    2012-01-05      1159    1   Thursday               Semana            5\n",
              "...         ...       ...  ...        ...                  ...          ...\n",
              "2187 2017-12-27      2102   12  Wednesday               Semana           27\n",
              "2188 2017-12-28      3449   12   Thursday               Semana           28\n",
              "2189 2017-12-29      1084   12     Friday               Semana           29\n",
              "2190 2017-12-30        18   12   Saturday               Semana           30\n",
              "2191 2017-12-31         0   12     Sunday  Domingos y festivos           31\n",
              "\n",
              "[2192 rows x 6 columns]"
            ]
          },
          "metadata": {},
          "execution_count": 13
        }
      ]
    },
    {
      "cell_type": "markdown",
      "metadata": {
        "id": "HxB0rVRWe7B9"
      },
      "source": [
        "Reemplazamos el dia en texto a numero en las columnas \"Día de la semana\" y \"Día laboral\"\n"
      ]
    },
    {
      "cell_type": "code",
      "metadata": {
        "id": "mcmuBQqN4Ry7"
      },
      "source": [
        "weekdays_dic = {\"Sunday\":0, \"Monday\":1, \"Tuesday\":2, \"Wednesday\":3, \"Thursday\":4, \"Friday\":5, \"Saturday\":6}\n",
        "laborday_dic = {\"Domingos y festivos\":0, \"Semana\":1}"
      ],
      "execution_count": 14,
      "outputs": []
    },
    {
      "cell_type": "code",
      "metadata": {
        "colab": {
          "base_uri": "https://localhost:8080/",
          "height": 422
        },
        "id": "Qh8bOqmw9Qs5",
        "outputId": "9577c713-0648-440d-906a-e2e09c27d7cc"
      },
      "source": [
        "df ['Día de la semana'] = df['Día'].replace(weekdays_dic)\n",
        "df ['Día laboral'] = df['Tipo de día'].replace(laborday_dic)\n",
        "\n",
        "df"
      ],
      "execution_count": 16,
      "outputs": [
        {
          "output_type": "execute_result",
          "data": {
            "text/html": [
              "<div>\n",
              "<style scoped>\n",
              "    .dataframe tbody tr th:only-of-type {\n",
              "        vertical-align: middle;\n",
              "    }\n",
              "\n",
              "    .dataframe tbody tr th {\n",
              "        vertical-align: top;\n",
              "    }\n",
              "\n",
              "    .dataframe thead th {\n",
              "        text-align: right;\n",
              "    }\n",
              "</style>\n",
              "<table border=\"1\" class=\"dataframe\">\n",
              "  <thead>\n",
              "    <tr style=\"text-align: right;\">\n",
              "      <th></th>\n",
              "      <th>Fecha</th>\n",
              "      <th>Unidades</th>\n",
              "      <th>Mes</th>\n",
              "      <th>Día</th>\n",
              "      <th>Tipo de día</th>\n",
              "      <th>Día del mes</th>\n",
              "      <th>Día de la semana</th>\n",
              "      <th>Día laboral</th>\n",
              "    </tr>\n",
              "  </thead>\n",
              "  <tbody>\n",
              "    <tr>\n",
              "      <th>0</th>\n",
              "      <td>2012-01-01</td>\n",
              "      <td>0</td>\n",
              "      <td>1</td>\n",
              "      <td>Sunday</td>\n",
              "      <td>Domingos y festivos</td>\n",
              "      <td>1</td>\n",
              "      <td>0</td>\n",
              "      <td>0</td>\n",
              "    </tr>\n",
              "    <tr>\n",
              "      <th>1</th>\n",
              "      <td>2012-01-02</td>\n",
              "      <td>188</td>\n",
              "      <td>1</td>\n",
              "      <td>Monday</td>\n",
              "      <td>Semana</td>\n",
              "      <td>2</td>\n",
              "      <td>1</td>\n",
              "      <td>1</td>\n",
              "    </tr>\n",
              "    <tr>\n",
              "      <th>2</th>\n",
              "      <td>2012-01-03</td>\n",
              "      <td>482</td>\n",
              "      <td>1</td>\n",
              "      <td>Tuesday</td>\n",
              "      <td>Semana</td>\n",
              "      <td>3</td>\n",
              "      <td>2</td>\n",
              "      <td>1</td>\n",
              "    </tr>\n",
              "    <tr>\n",
              "      <th>3</th>\n",
              "      <td>2012-01-04</td>\n",
              "      <td>927</td>\n",
              "      <td>1</td>\n",
              "      <td>Wednesday</td>\n",
              "      <td>Semana</td>\n",
              "      <td>4</td>\n",
              "      <td>3</td>\n",
              "      <td>1</td>\n",
              "    </tr>\n",
              "    <tr>\n",
              "      <th>4</th>\n",
              "      <td>2012-01-05</td>\n",
              "      <td>1159</td>\n",
              "      <td>1</td>\n",
              "      <td>Thursday</td>\n",
              "      <td>Semana</td>\n",
              "      <td>5</td>\n",
              "      <td>4</td>\n",
              "      <td>1</td>\n",
              "    </tr>\n",
              "    <tr>\n",
              "      <th>...</th>\n",
              "      <td>...</td>\n",
              "      <td>...</td>\n",
              "      <td>...</td>\n",
              "      <td>...</td>\n",
              "      <td>...</td>\n",
              "      <td>...</td>\n",
              "      <td>...</td>\n",
              "      <td>...</td>\n",
              "    </tr>\n",
              "    <tr>\n",
              "      <th>2187</th>\n",
              "      <td>2017-12-27</td>\n",
              "      <td>2102</td>\n",
              "      <td>12</td>\n",
              "      <td>Wednesday</td>\n",
              "      <td>Semana</td>\n",
              "      <td>27</td>\n",
              "      <td>3</td>\n",
              "      <td>1</td>\n",
              "    </tr>\n",
              "    <tr>\n",
              "      <th>2188</th>\n",
              "      <td>2017-12-28</td>\n",
              "      <td>3449</td>\n",
              "      <td>12</td>\n",
              "      <td>Thursday</td>\n",
              "      <td>Semana</td>\n",
              "      <td>28</td>\n",
              "      <td>4</td>\n",
              "      <td>1</td>\n",
              "    </tr>\n",
              "    <tr>\n",
              "      <th>2189</th>\n",
              "      <td>2017-12-29</td>\n",
              "      <td>1084</td>\n",
              "      <td>12</td>\n",
              "      <td>Friday</td>\n",
              "      <td>Semana</td>\n",
              "      <td>29</td>\n",
              "      <td>5</td>\n",
              "      <td>1</td>\n",
              "    </tr>\n",
              "    <tr>\n",
              "      <th>2190</th>\n",
              "      <td>2017-12-30</td>\n",
              "      <td>18</td>\n",
              "      <td>12</td>\n",
              "      <td>Saturday</td>\n",
              "      <td>Semana</td>\n",
              "      <td>30</td>\n",
              "      <td>6</td>\n",
              "      <td>1</td>\n",
              "    </tr>\n",
              "    <tr>\n",
              "      <th>2191</th>\n",
              "      <td>2017-12-31</td>\n",
              "      <td>0</td>\n",
              "      <td>12</td>\n",
              "      <td>Sunday</td>\n",
              "      <td>Domingos y festivos</td>\n",
              "      <td>31</td>\n",
              "      <td>0</td>\n",
              "      <td>0</td>\n",
              "    </tr>\n",
              "  </tbody>\n",
              "</table>\n",
              "<p>2192 rows × 8 columns</p>\n",
              "</div>"
            ],
            "text/plain": [
              "          Fecha  Unidades  Mes  ... Día del mes Día de la semana  Día laboral\n",
              "0    2012-01-01         0    1  ...           1                0            0\n",
              "1    2012-01-02       188    1  ...           2                1            1\n",
              "2    2012-01-03       482    1  ...           3                2            1\n",
              "3    2012-01-04       927    1  ...           4                3            1\n",
              "4    2012-01-05      1159    1  ...           5                4            1\n",
              "...         ...       ...  ...  ...         ...              ...          ...\n",
              "2187 2017-12-27      2102   12  ...          27                3            1\n",
              "2188 2017-12-28      3449   12  ...          28                4            1\n",
              "2189 2017-12-29      1084   12  ...          29                5            1\n",
              "2190 2017-12-30        18   12  ...          30                6            1\n",
              "2191 2017-12-31         0   12  ...          31                0            0\n",
              "\n",
              "[2192 rows x 8 columns]"
            ]
          },
          "metadata": {},
          "execution_count": 16
        }
      ]
    },
    {
      "cell_type": "markdown",
      "metadata": {
        "id": "m6Yueb-MgjPw"
      },
      "source": [
        "Seleccionamos los campos 'Mes', 'Día del mes', 'Día de la semana', 'Día laboral', 'Unidades' para entrenar nuestro modelo"
      ]
    },
    {
      "cell_type": "code",
      "metadata": {
        "colab": {
          "base_uri": "https://localhost:8080/",
          "height": 422
        },
        "id": "3EnCV8iLBCeY",
        "outputId": "93f3cfcb-5f16-4902-8c42-0e94a881da9c"
      },
      "source": [
        "column_selection = df [['Mes', 'Día del mes', 'Día de la semana', 'Día laboral', 'Unidades']]\n",
        "column_selection"
      ],
      "execution_count": 17,
      "outputs": [
        {
          "output_type": "execute_result",
          "data": {
            "text/html": [
              "<div>\n",
              "<style scoped>\n",
              "    .dataframe tbody tr th:only-of-type {\n",
              "        vertical-align: middle;\n",
              "    }\n",
              "\n",
              "    .dataframe tbody tr th {\n",
              "        vertical-align: top;\n",
              "    }\n",
              "\n",
              "    .dataframe thead th {\n",
              "        text-align: right;\n",
              "    }\n",
              "</style>\n",
              "<table border=\"1\" class=\"dataframe\">\n",
              "  <thead>\n",
              "    <tr style=\"text-align: right;\">\n",
              "      <th></th>\n",
              "      <th>Mes</th>\n",
              "      <th>Día del mes</th>\n",
              "      <th>Día de la semana</th>\n",
              "      <th>Día laboral</th>\n",
              "      <th>Unidades</th>\n",
              "    </tr>\n",
              "  </thead>\n",
              "  <tbody>\n",
              "    <tr>\n",
              "      <th>0</th>\n",
              "      <td>1</td>\n",
              "      <td>1</td>\n",
              "      <td>0</td>\n",
              "      <td>0</td>\n",
              "      <td>0</td>\n",
              "    </tr>\n",
              "    <tr>\n",
              "      <th>1</th>\n",
              "      <td>1</td>\n",
              "      <td>2</td>\n",
              "      <td>1</td>\n",
              "      <td>1</td>\n",
              "      <td>188</td>\n",
              "    </tr>\n",
              "    <tr>\n",
              "      <th>2</th>\n",
              "      <td>1</td>\n",
              "      <td>3</td>\n",
              "      <td>2</td>\n",
              "      <td>1</td>\n",
              "      <td>482</td>\n",
              "    </tr>\n",
              "    <tr>\n",
              "      <th>3</th>\n",
              "      <td>1</td>\n",
              "      <td>4</td>\n",
              "      <td>3</td>\n",
              "      <td>1</td>\n",
              "      <td>927</td>\n",
              "    </tr>\n",
              "    <tr>\n",
              "      <th>4</th>\n",
              "      <td>1</td>\n",
              "      <td>5</td>\n",
              "      <td>4</td>\n",
              "      <td>1</td>\n",
              "      <td>1159</td>\n",
              "    </tr>\n",
              "    <tr>\n",
              "      <th>...</th>\n",
              "      <td>...</td>\n",
              "      <td>...</td>\n",
              "      <td>...</td>\n",
              "      <td>...</td>\n",
              "      <td>...</td>\n",
              "    </tr>\n",
              "    <tr>\n",
              "      <th>2187</th>\n",
              "      <td>12</td>\n",
              "      <td>27</td>\n",
              "      <td>3</td>\n",
              "      <td>1</td>\n",
              "      <td>2102</td>\n",
              "    </tr>\n",
              "    <tr>\n",
              "      <th>2188</th>\n",
              "      <td>12</td>\n",
              "      <td>28</td>\n",
              "      <td>4</td>\n",
              "      <td>1</td>\n",
              "      <td>3449</td>\n",
              "    </tr>\n",
              "    <tr>\n",
              "      <th>2189</th>\n",
              "      <td>12</td>\n",
              "      <td>29</td>\n",
              "      <td>5</td>\n",
              "      <td>1</td>\n",
              "      <td>1084</td>\n",
              "    </tr>\n",
              "    <tr>\n",
              "      <th>2190</th>\n",
              "      <td>12</td>\n",
              "      <td>30</td>\n",
              "      <td>6</td>\n",
              "      <td>1</td>\n",
              "      <td>18</td>\n",
              "    </tr>\n",
              "    <tr>\n",
              "      <th>2191</th>\n",
              "      <td>12</td>\n",
              "      <td>31</td>\n",
              "      <td>0</td>\n",
              "      <td>0</td>\n",
              "      <td>0</td>\n",
              "    </tr>\n",
              "  </tbody>\n",
              "</table>\n",
              "<p>2192 rows × 5 columns</p>\n",
              "</div>"
            ],
            "text/plain": [
              "      Mes  Día del mes  Día de la semana  Día laboral  Unidades\n",
              "0       1            1                 0            0         0\n",
              "1       1            2                 1            1       188\n",
              "2       1            3                 2            1       482\n",
              "3       1            4                 3            1       927\n",
              "4       1            5                 4            1      1159\n",
              "...   ...          ...               ...          ...       ...\n",
              "2187   12           27                 3            1      2102\n",
              "2188   12           28                 4            1      3449\n",
              "2189   12           29                 5            1      1084\n",
              "2190   12           30                 6            1        18\n",
              "2191   12           31                 0            0         0\n",
              "\n",
              "[2192 rows x 5 columns]"
            ]
          },
          "metadata": {},
          "execution_count": 17
        }
      ]
    },
    {
      "cell_type": "markdown",
      "metadata": {
        "id": "rJDQzJcdiMCj"
      },
      "source": [
        "Transformamos nuestros datos a un array, cada fila será un dia con sus correspondieste valor de Unidades vendidas"
      ]
    },
    {
      "cell_type": "code",
      "metadata": {
        "colab": {
          "base_uri": "https://localhost:8080/"
        },
        "id": "mSUXy5hw_rKA",
        "outputId": "d73b1a44-5cd4-4324-cd26-b4192ae4caa4"
      },
      "source": [
        "#transform panda to numpy_array\n",
        "Data = column_selection.to_numpy()\n",
        "\n",
        "#rows are samples\n",
        "Data"
      ],
      "execution_count": 18,
      "outputs": [
        {
          "output_type": "execute_result",
          "data": {
            "text/plain": [
              "array([[   1,    1,    0,    0,    0],\n",
              "       [   1,    2,    1,    1,  188],\n",
              "       [   1,    3,    2,    1,  482],\n",
              "       ...,\n",
              "       [  12,   29,    5,    1, 1084],\n",
              "       [  12,   30,    6,    1,   18],\n",
              "       [  12,   31,    0,    0,    0]])"
            ]
          },
          "metadata": {},
          "execution_count": 18
        }
      ]
    },
    {
      "cell_type": "markdown",
      "metadata": {
        "id": "i2ggAx7tihC0"
      },
      "source": [
        "Como podemos ver tenemos 2192 datos para entrenar a nuestro modelo"
      ]
    },
    {
      "cell_type": "code",
      "metadata": {
        "colab": {
          "base_uri": "https://localhost:8080/"
        },
        "id": "N9xUpNkvA457",
        "outputId": "2aedcf7b-4937-4b12-9238-5c761d1ee84d"
      },
      "source": [
        "np.shape(Data)"
      ],
      "execution_count": 19,
      "outputs": [
        {
          "output_type": "execute_result",
          "data": {
            "text/plain": [
              "(2192, 5)"
            ]
          },
          "metadata": {},
          "execution_count": 19
        }
      ]
    },
    {
      "cell_type": "code",
      "metadata": {
        "colab": {
          "base_uri": "https://localhost:8080/"
        },
        "id": "upNkEAzvBaDA",
        "outputId": "5442b40c-6a23-406d-c07c-8ff10bc55b31"
      },
      "source": [
        "#shuffle order of samples\n",
        "np.random.seed(0)\n",
        "np.random.shuffle(Data)\n",
        "Data"
      ],
      "execution_count": 20,
      "outputs": [
        {
          "output_type": "execute_result",
          "data": {
            "text/plain": [
              "array([[   9,   21,    5,    1, 1231],\n",
              "       [   2,    2,    2,    1,  694],\n",
              "       [  11,   10,    6,    1,  336],\n",
              "       ...,\n",
              "       [   2,    2,    0,    0,    6],\n",
              "       [   4,   15,    2,    1, 1133],\n",
              "       [   7,   11,    1,    1,  643]])"
            ]
          },
          "metadata": {},
          "execution_count": 20
        }
      ]
    },
    {
      "cell_type": "code",
      "metadata": {
        "colab": {
          "base_uri": "https://localhost:8080/"
        },
        "id": "5ZmE9DU5CU5d",
        "outputId": "3d4e0a52-0510-4726-bb17-d7a3d41e6f73"
      },
      "source": [
        "#transpose X, such that columns are now samples\n",
        "Data = Data.T\n",
        "Data"
      ],
      "execution_count": 21,
      "outputs": [
        {
          "output_type": "execute_result",
          "data": {
            "text/plain": [
              "array([[   9,    2,   11, ...,    2,    4,    7],\n",
              "       [  21,    2,   10, ...,    2,   15,   11],\n",
              "       [   5,    2,    6, ...,    0,    2,    1],\n",
              "       [   1,    1,    1, ...,    0,    1,    1],\n",
              "       [1231,  694,  336, ...,    6, 1133,  643]])"
            ]
          },
          "metadata": {},
          "execution_count": 21
        }
      ]
    },
    {
      "cell_type": "markdown",
      "metadata": {
        "id": "1zG5OCkHiqAG"
      },
      "source": [
        "Mezclamos los datos para que no queden en orden y sacamos la transpuesta, ahora cada columna será un dia con el ultimo valor como su valor de Unidades vendidas\n",
        "\n",
        "\n",
        "\\begin{bmatrix}\n",
        "    \\vert & \\vert &  & \\vert \\\\\n",
        "    v_1 & v_2  & ...  & v_{2192}\\\\\n",
        "    \\vert & \\vert & & \\vert\n",
        "\\end{bmatrix}\n"
      ]
    },
    {
      "cell_type": "code",
      "metadata": {
        "id": "YBhHpVLgDu08"
      },
      "source": [
        "#split into training and test set\n",
        "Data_train = Data[:,:1500]\n",
        "Data_test = Data[:,1500:]"
      ],
      "execution_count": 24,
      "outputs": []
    },
    {
      "cell_type": "code",
      "metadata": {
        "colab": {
          "base_uri": "https://localhost:8080/"
        },
        "id": "YHwixOnKktbi",
        "outputId": "2b71135c-53e5-474d-df31-b59e60964be3"
      },
      "source": [
        "np.shape(Data_train), np.shape(Data_test)"
      ],
      "execution_count": 25,
      "outputs": [
        {
          "output_type": "execute_result",
          "data": {
            "text/plain": [
              "((5, 1500), (5, 692))"
            ]
          },
          "metadata": {},
          "execution_count": 25
        }
      ]
    },
    {
      "cell_type": "markdown",
      "metadata": {
        "id": "sOvbIGyLkqCo"
      },
      "source": [
        "Ahora divido mis datos, mis datos para entrenamiento seran aprox. el 68% de mis datos totales, mis datos para validacion serán el 32%"
      ]
    },
    {
      "cell_type": "code",
      "metadata": {
        "colab": {
          "base_uri": "https://localhost:8080/"
        },
        "id": "QXBUOEYDCcR1",
        "outputId": "f2b9a7de-761c-4ad1-9bad-90dfc39af072"
      },
      "source": [
        "#split X and target Variable Y = 'Unidades'\n",
        "X_train = Data_train[:-1,:]\n",
        "Y_train = Data_train[[-1],:]\n",
        "\n",
        "X_test = Data_test[:-1,:]\n",
        "Y_test = Data_test[[-1],:]\n",
        "\n",
        "X_train, Y_train"
      ],
      "execution_count": 26,
      "outputs": [
        {
          "output_type": "execute_result",
          "data": {
            "text/plain": [
              "(array([[ 9,  2, 11, ...,  9,  9,  3],\n",
              "        [21,  2, 10, ..., 18, 14, 31],\n",
              "        [ 5,  2,  6, ...,  5,  6,  5],\n",
              "        [ 1,  1,  1, ...,  1,  1,  1]]),\n",
              " array([[1231,  694,  336, ..., 1034,  303, 2092]]))"
            ]
          },
          "metadata": {},
          "execution_count": 26
        }
      ]
    },
    {
      "cell_type": "markdown",
      "metadata": {
        "id": "PS5nONOLq0pr"
      },
      "source": [
        "Divido ahora mis datos para tener 4 variables para entrenar el modelo"
      ]
    },
    {
      "cell_type": "code",
      "metadata": {
        "colab": {
          "base_uri": "https://localhost:8080/"
        },
        "id": "2OJuKRecE21_",
        "outputId": "df2c9e95-228a-4160-bba9-c4cebecbb31d"
      },
      "source": [
        "np.shape(X_train), np.shape(Y_train), np.shape(X_test), np.shape(Y_test)"
      ],
      "execution_count": 27,
      "outputs": [
        {
          "output_type": "execute_result",
          "data": {
            "text/plain": [
              "((4, 1500), (1, 1500), (4, 692), (1, 692))"
            ]
          },
          "metadata": {},
          "execution_count": 27
        }
      ]
    },
    {
      "cell_type": "code",
      "metadata": {
        "colab": {
          "base_uri": "https://localhost:8080/"
        },
        "id": "AaKHeeaTFkRV",
        "outputId": "dbceac2a-3ce0-4910-e732-631e3b8dbe5c"
      },
      "source": [
        "#normalize Y as only not categorical variable\n",
        "\n",
        "Y_mean = np.mean(Y_train, axis=1) \n",
        "Y_std = np.std(Y_train, axis=1)\n",
        "Y_train =  (Y_train - Y_mean) / Y_std\n",
        "Y_test =  (Y_test - Y_mean) / Y_std\n",
        "\n",
        "Y_train"
      ],
      "execution_count": 28,
      "outputs": [
        {
          "output_type": "execute_result",
          "data": {
            "text/plain": [
              "array([[ 0.79239981, -0.17076834, -0.81288043, ...,  0.43905879,\n",
              "        -0.87206954,  2.33669733]])"
            ]
          },
          "metadata": {},
          "execution_count": 28
        }
      ]
    },
    {
      "cell_type": "markdown",
      "metadata": {
        "id": "067pJfOM-TxN"
      },
      "source": [
        "Vamos a hacer una regresión con una red neuronal. Esta va a consistir en un Input-Layer, un Hidden-Layer y un Output-Layer .\n",
        "- El Input será el Training set que acabamos de definir.\n",
        "- El Hidden-Layer tendrá la dimensión 4 y como función de activación el Leaky ReLu\n",
        "- El Output_Layer será de la dimensión 1 y no tendrá función de activación.\n",
        "\n",
        "El resultado del outputlayer es la predición de ventas de carros en este día.\n",
        "Para entrenar la red usamos el MSE como función de costo y el metodo del gradiente descente para actualizar los parametros.\n",
        "Despues compararmos los resultados con el MSE del Test set.\n",
        "\n",
        "Al final calculamos el R2 score con los parametros que obtuvimos."
      ]
    },
    {
      "cell_type": "markdown",
      "metadata": {
        "id": "SSbrDJDmGUQr"
      },
      "source": [
        "# Preparando la Red Neuronal"
      ]
    },
    {
      "cell_type": "code",
      "metadata": {
        "id": "ab1pWUdCGD4c"
      },
      "source": [
        "#Dimensions\n",
        "n_x = len(X_train)\n",
        "m = len(X_train[0])"
      ],
      "execution_count": 29,
      "outputs": []
    },
    {
      "cell_type": "code",
      "metadata": {
        "id": "ASh6k6UFGS4H"
      },
      "source": [
        "#Activation_function\n",
        "def leaky_relu(Z):\n",
        "\tA = np.maximum(Z,Z*0.001)\n",
        "\tcache = Z\n",
        "\treturn (A,cache)"
      ],
      "execution_count": 30,
      "outputs": []
    },
    {
      "cell_type": "code",
      "metadata": {
        "id": "hiHEc9J4G7VC"
      },
      "source": [
        "#Derivative of leaky_relu\n",
        "def leaky_relu_backwards(Z):\n",
        "\tdef der_elementwise(Z):\n",
        "\t\tif Z < 0:\n",
        "\t\t\treturn (0.001)\n",
        "\t\telse:\n",
        "\t\t\treturn (1)\n",
        "\treturn(np.vectorize(der_elementwise)(Z))"
      ],
      "execution_count": 31,
      "outputs": []
    },
    {
      "cell_type": "code",
      "metadata": {
        "id": "Ei1hv_cQG-XP"
      },
      "source": [
        "#Initialize parameters w and b\n",
        "def init_parameters(n_h):\n",
        "\tW1 = np.random.randn(n_h,n_x) * 0.1\n",
        "\tb1 = np.zeros((n_h,1))\n",
        "\tW2 = np.random.randn(1,n_h) *0.01\n",
        "\tb2 = 0\n",
        "\n",
        "\tparameters = {\"W1\" : W1, \"b1\" : b1, \"W2\" : W2, \"b2\" : b2}\n",
        "\n",
        "\treturn parameters"
      ],
      "execution_count": 32,
      "outputs": []
    },
    {
      "cell_type": "markdown",
      "metadata": {
        "id": "YRyXto2ZHGan"
      },
      "source": [
        "## Forward Propagation"
      ]
    },
    {
      "cell_type": "code",
      "metadata": {
        "id": "faB1FltTHK4a"
      },
      "source": [
        "def linear_forward(A,W,b):\n",
        "\tZ = np.dot(W,A) + b\n",
        "\tcache = (A,W,b)\n",
        "\treturn (Z,cache)"
      ],
      "execution_count": 33,
      "outputs": []
    },
    {
      "cell_type": "code",
      "metadata": {
        "id": "PjJpYGi5HNQE"
      },
      "source": [
        "def activation_forward(A_prev, W, b, activation):\n",
        "\tZ, linear_cache = linear_forward(A_prev,W,b)\n",
        "\tif activation == \"leaky_relu\":\n",
        "\t\tA, activation_cache = leaky_relu(Z)\n",
        "\telif activation == \"\":\n",
        "\t\tA, activation_cache = Z, Z\n",
        "\tcache = (linear_cache, activation_cache)\n",
        "\treturn(A,cache)"
      ],
      "execution_count": 34,
      "outputs": []
    },
    {
      "cell_type": "code",
      "metadata": {
        "id": "Jftb1Uy7HTNW"
      },
      "source": [
        "#forward-propagation\n",
        "def two_layer_forward(X, parameters):\n",
        "\tcaches = []\n",
        "\t\n",
        "\tW1 = parameters[\"W1\"]\n",
        "\tb1 = parameters[\"b1\"]\n",
        "\tA1, cache = activation_forward(X,W1,b1,\"leaky_relu\")\n",
        "\tcaches.append(cache)\n",
        "\n",
        "\tW2 = parameters[\"W2\"]\n",
        "\tb2 = parameters[\"b2\"]\n",
        "\tA2, cache = activation_forward(A1,W2,b2,\"\")\n",
        "\tcaches.append(cache)\n",
        "\n",
        "\tY_hat = A2\n",
        "\treturn(Y_hat,caches)"
      ],
      "execution_count": 35,
      "outputs": []
    },
    {
      "cell_type": "code",
      "metadata": {
        "id": "txM0HXzWHcS-"
      },
      "source": [
        "#Cost-function\n",
        "def cost_func(Y,Y_hat):\n",
        "\tm = len(Y_hat[0])\n",
        "\tcost = 1/m * np.sum(np.power(Y-Y_hat,2))\n",
        "\treturn(cost)"
      ],
      "execution_count": 36,
      "outputs": []
    },
    {
      "cell_type": "markdown",
      "metadata": {
        "id": "iyvXFJU2Hek2"
      },
      "source": [
        "## Backward Propagation"
      ]
    },
    {
      "cell_type": "code",
      "metadata": {
        "id": "adAFyO82HhpY"
      },
      "source": [
        "def linear_backward(dZ,cache):\n",
        "\tA_prev, W, b = cache\n",
        "\tm = A_prev.shape[1]\n",
        "\tdW = 1/m* np.dot(dZ,A_prev.T)\n",
        "\tdb = 1/m * np.sum(dZ, axis=1, keepdims = True)\n",
        "\tdA_prev = np.dot(W.T,dZ)\n",
        "\treturn(dA_prev, dW, db)"
      ],
      "execution_count": 37,
      "outputs": []
    },
    {
      "cell_type": "code",
      "metadata": {
        "id": "Kmx3zYH2Hkue"
      },
      "source": [
        "def linear_activation_backward(dA, cache, activation):\n",
        "\tlinear_cache, activation_cache = cache\n",
        "\tif activation == \"leaky_relu\":\n",
        "\t\tdZ = dA * leaky_relu_backwards(activation_cache)\n",
        "\t\t\n",
        "\telif activation == \"\":\n",
        "\t\tdZ = dA * 1\n",
        "\tdA_prev, dW, db = linear_backward(dZ,linear_cache)\n",
        "\treturn(dA_prev, dW, db)"
      ],
      "execution_count": 38,
      "outputs": []
    },
    {
      "cell_type": "code",
      "metadata": {
        "id": "GWMKFzgNHpPh"
      },
      "source": [
        "#backward-propagation\n",
        "def two_layer_backward(A2,Y, caches):\n",
        "\tgrads = {}\n",
        "\tdA2 = (-2/m) * (Y-A2)\n",
        "\t\n",
        "\tdA_prev_temp, dW_temp, db_temp = linear_activation_backward(dA2, caches[1], \"\")\n",
        "\tgrads[\"dA1\"] = dA_prev_temp\n",
        "\tgrads[\"dW2\"] = dW_temp\n",
        "\tgrads[\"db2\"] = db_temp\n",
        "\t\n",
        "\tdA_prev_temp, dW_temp, db_temp = linear_activation_backward(grads[\"dA1\"], caches[0], \"leaky_relu\")\n",
        "\tgrads[\"dW1\"] = dW_temp\n",
        "\tgrads[\"db1\"] = db_temp\n",
        "\n",
        "\n",
        "\treturn grads"
      ],
      "execution_count": 39,
      "outputs": []
    },
    {
      "cell_type": "code",
      "metadata": {
        "id": "yYBC3Ba3HtQ4"
      },
      "source": [
        "def update_parameters(parameters,grads,learning_rate):\n",
        "\tparameters[\"W1\"] = parameters[\"W1\"] - learning_rate * grads[\"dW1\"]\n",
        "\tparameters[\"b1\"] = parameters[\"b1\"] - learning_rate * grads[\"db1\"]\n",
        "\tparameters[\"W2\"] = parameters[\"W2\"] - learning_rate * grads[\"dW2\"]\n",
        "\tparameters[\"b2\"] = parameters[\"b2\"] - learning_rate * grads[\"db2\"]\n",
        "\treturn parameters"
      ],
      "execution_count": 40,
      "outputs": []
    },
    {
      "cell_type": "markdown",
      "metadata": {
        "id": "tp82dPV1H1fo"
      },
      "source": [
        "## Parameter Storage"
      ]
    },
    {
      "cell_type": "code",
      "metadata": {
        "id": "It6_pCJeH5ba"
      },
      "source": [
        "#read in former saved parameters\n",
        "def read_parameters():\n",
        "\tf = open(\"parameters.txt\", \"rb\")\n",
        "\tparameters = pickle.load(f)\n",
        "\tf.close()\n",
        "\treturn parameters"
      ],
      "execution_count": 41,
      "outputs": []
    },
    {
      "cell_type": "code",
      "metadata": {
        "id": "9n4qdVEDH8n1"
      },
      "source": [
        "#save the obtained parameters in a separate text-file\n",
        "def save_parameters(parameters):\n",
        "\tf = open(\"parameters.txt\", \"wb\")\n",
        "\tpickle.dump(parameters,f)\n",
        "\tf.close()"
      ],
      "execution_count": 42,
      "outputs": []
    },
    {
      "cell_type": "markdown",
      "metadata": {
        "id": "sDkPQgv8IFIC"
      },
      "source": [
        "# Red Neuronal"
      ]
    },
    {
      "cell_type": "markdown",
      "metadata": {
        "id": "lM1T2m7_FQra"
      },
      "source": [
        "El usuario puede cambiar la arquitectura de la red neuronal con el valor \"n_h\", que define la dimensión de la Capa Oculta \"Hidden Layer\".\n",
        "\n",
        "Para empezar el entrenamiento hay dos opciones: Inicializar los parámetros aleatoriamente o usar los parámetros que ya estén guardados de un entrenamiento anterior. Para lo ultimo se utiliza el parámetro \"read = True\". Además, con el valor \"read\", podemos decidir si queremos guardar los parámetros después del entrenamiento o no.\n",
        "\n",
        "Para el caso de que solo queramos guardarlos si logramos un resultado, podemos decir cuál es el error que deseamos obtener en el valor \"coast_goal\". En el momento que la red obtenga este valor, va a parar el entrenamiento automáticamente y guardar los parámetros relacionados.\n",
        "\n",
        "Esto también permite empezar el entrenamiento con una tasa de aprendizaje \"learning rate\" más grande y cambiarla manualmente durante el proceso de entrenamiento.\n",
        "\n",
        "Si en alguna iteración el costo aumenta, el usuario recibirá un mensaje informándolo de eso, diciendo que la tasa de aprendizaje \"learning rate\" está demasiado alta.\n",
        "\n",
        "El usuario también puede decidir si quiere ver los costos durante el proceso de entrenamiento para controlar la convergencia o no. Esto se decide con el valor \"print_cost\"."
      ]
    },
    {
      "cell_type": "code",
      "metadata": {
        "id": "070E6saDIHbZ"
      },
      "source": [
        "#combine everything to the neural network\n",
        "def neural_net(X, Y, n_h, learning_rate, epochs, cost_goal = 0, print_cost = False, read = False, save = False):\n",
        "\n",
        "\t#start either with former saved parameters or initialize them\n",
        "  if read:\n",
        "    parameters = read_parameters()\n",
        "  else:\n",
        "    parameters = init_parameters(n_h)\n",
        "\n",
        "  #compare new cost to old cost to control convergence\t\n",
        "  cost_old = 9999999999999999999\n",
        "\n",
        "  for epoch in range(epochs+1):\n",
        "    #compute predicted labels in every iteration and store cache for backward-propagation\n",
        "    Y_hat,caches = two_layer_forward(X, parameters)\n",
        "\t\n",
        "    #show costs to control convergence\n",
        "    cost = cost_func(Y,Y_hat)\n",
        "    \n",
        "    if print_cost == True:\n",
        "      if epoch % 1000 == 0:\n",
        "        print(\"epoch = \" + str(epoch), \"cost = \" + str(cost))\t\t\t\t\t\t\n",
        "\n",
        "    if cost > cost_old:\n",
        "      print(\"Learning Rate was too high\")\n",
        "    cost_old = cost\n",
        "    \n",
        "\n",
        "    #save gradients for gradient-descent\n",
        "    grads = two_layer_backward(Y_hat,Y,caches)\n",
        "\n",
        "    #stop and safe the parameters if the desired cost is obtained. The network can afterwards be called again to continue training with a different learning rate \n",
        "    if cost < cost_goal:\n",
        "      save = True\n",
        "      break\n",
        "    #update parameters via gradient descent\n",
        "    parameters = update_parameters(parameters,grads,learning_rate)\n",
        "\t\t\n",
        "\n",
        "  #save final predictions and computed cost\n",
        "  Y_hat,caches = two_layer_forward(X, parameters) \t\t\n",
        "  final_cost = cost_func(Y,Y_hat)\t\t\t\t\t\t\t\t\t\t\t\t\t\t\n",
        "\t\n",
        "  #save obtained parameters in different text-file\n",
        "  if save:\n",
        "    save_parameters(parameters)\n",
        "\n",
        "  return(\"Training Error is \" + str(cost))"
      ],
      "execution_count": 43,
      "outputs": []
    },
    {
      "cell_type": "code",
      "metadata": {
        "id": "VbEPQPyCIXD_"
      },
      "source": [
        "#Test learned parameters on test set\n",
        "def test_model(X,Y):\n",
        "\t#gain learned parameters\n",
        "\tparameters = read_parameters()\n",
        "\t#run neural entwork to make prediction\n",
        "\tY_hat,__ = two_layer_forward(X, parameters)\n",
        "\t#calculate costs\n",
        "\tcost = cost_func(Y,Y_hat)\n",
        "\n",
        "\t#show results\n",
        "\treturn(\"Test Error is \" + str(round(cost,2)))"
      ],
      "execution_count": 44,
      "outputs": []
    },
    {
      "cell_type": "markdown",
      "metadata": {
        "id": "sQIFq6vAJCFO"
      },
      "source": [
        "# Entrenamiento y Validación"
      ]
    },
    {
      "cell_type": "code",
      "metadata": {
        "colab": {
          "base_uri": "https://localhost:8080/",
          "height": 35
        },
        "id": "nOk06w04JFdE",
        "outputId": "6526a2ce-7cc8-4099-b388-30347512b5fa"
      },
      "source": [
        "np.random.seed(0)\n",
        "# X, Y, n_h, learning_rate, epochs, cost_goal = 0, print_cost = False, read = False, save = False)\n",
        "neural_net(X_train, Y_train, 4, 2, 100000, cost_goal = 0.4)\n",
        "neural_net(X_train, Y_train, 4, 1, 100000, cost_goal = 0.24, read = True)\n",
        "neural_net(X_train, Y_train, 4, 0.5, 100000, cost_goal = 0.23, read = True)"
      ],
      "execution_count": 45,
      "outputs": [
        {
          "output_type": "execute_result",
          "data": {
            "application/vnd.google.colaboratory.intrinsic+json": {
              "type": "string"
            },
            "text/plain": [
              "'Training Error is 0.22999986681169843'"
            ]
          },
          "metadata": {},
          "execution_count": 45
        }
      ]
    },
    {
      "cell_type": "code",
      "metadata": {
        "colab": {
          "base_uri": "https://localhost:8080/",
          "height": 35
        },
        "id": "d9g53WofOTop",
        "outputId": "8354f03c-f019-4f38-d1f4-3e09a34f0bc9"
      },
      "source": [
        "test_model(X_test,Y_test)"
      ],
      "execution_count": 47,
      "outputs": [
        {
          "output_type": "execute_result",
          "data": {
            "application/vnd.google.colaboratory.intrinsic+json": {
              "type": "string"
            },
            "text/plain": [
              "'Test Error is 0.21'"
            ]
          },
          "metadata": {},
          "execution_count": 47
        }
      ]
    },
    {
      "cell_type": "markdown",
      "metadata": {
        "id": "WYgzThW3gZxg"
      },
      "source": [
        "# Modelo de predicción para nuevos datos"
      ]
    },
    {
      "cell_type": "code",
      "metadata": {
        "id": "lMIjgSvwgdvE"
      },
      "source": [
        "#Prediction for new instance, given as a vector of attributes \n",
        "def label_new_data(x):\n",
        "  #reshape X\n",
        "  x = np.array(x)\n",
        "  x = x.reshape((4,1))\n",
        "  #check if it is a sunday or holiday:\n",
        "  if x[3,0] == 0:\n",
        "    return(0)\n",
        "  #call learned parameters\n",
        "  parameters = read_parameters()\n",
        "\t#predict label with neural network architecture\n",
        "  Y_hat = two_layer_forward(x,parameters)[0]\n",
        "  #print(Y_hat)\n",
        "  #destandardize label\n",
        "  Y_hat = Y_hat * Y_std + Y_mean\n",
        "\t#round label to integer\n",
        "  Y_hat =  round(Y_hat[0][0])\n",
        "\t\n",
        "  return Y_hat"
      ],
      "execution_count": 52,
      "outputs": []
    },
    {
      "cell_type": "code",
      "metadata": {
        "id": "cEr2Q9khQset"
      },
      "source": [
        "np.set_printoptions(suppress=True)\n",
        "Y_test = Y_test * Y_std + Y_mean\n",
        "Y_test = Y_test[0]"
      ],
      "execution_count": 48,
      "outputs": []
    },
    {
      "cell_type": "code",
      "metadata": {
        "colab": {
          "base_uri": "https://localhost:8080/"
        },
        "id": "iVU3ynLThbYR",
        "outputId": "21126ab4-3d5c-493d-ffa4-42081fae1eb8"
      },
      "source": [
        "Y_test[1:25]"
      ],
      "execution_count": 53,
      "outputs": [
        {
          "output_type": "execute_result",
          "data": {
            "text/plain": [
              "array([1076.,  376., 1361.,    0., 1232., 1723., 1024.,  999.,  906.,\n",
              "        989., 1098., 1113., 1941., 1052.,   34.,    0.,  845.,    0.,\n",
              "       1072.,  840., 1311., 1056.,  277.,    0.])"
            ]
          },
          "metadata": {},
          "execution_count": 53
        }
      ]
    },
    {
      "cell_type": "code",
      "metadata": {
        "id": "6WNIYAUwTb_w"
      },
      "source": [
        "# Predicción en test data\n",
        "Y_test_pred = []\n",
        "for i in range(0, len(Y_test)):\n",
        "  Y_test_pred.append(label_new_data(X_test[:,i]))"
      ],
      "execution_count": 54,
      "outputs": []
    },
    {
      "cell_type": "code",
      "metadata": {
        "id": "8AI6Q3xWUFqL",
        "colab": {
          "base_uri": "https://localhost:8080/"
        },
        "outputId": "bad32636-9cb7-492f-8b92-093664269077"
      },
      "source": [
        "from sklearn.metrics import r2_score\n",
        "\n",
        "r2 = r2_score(Y_test, Y_test_pred)\n",
        "\n",
        "r2"
      ],
      "execution_count": 55,
      "outputs": [
        {
          "output_type": "execute_result",
          "data": {
            "text/plain": [
              "0.785125982646714"
            ]
          },
          "metadata": {},
          "execution_count": 55
        }
      ]
    },
    {
      "cell_type": "markdown",
      "metadata": {
        "id": "zFK34iI-rr1c"
      },
      "source": [
        "Como podemos ver, nuestra red neuronal tiene un $R^2$ de $0.785$ en los datos de test\n",
        "\n",
        "\n"
      ]
    },
    {
      "cell_type": "markdown",
      "metadata": {
        "id": "uCG7Yg0uZtOr"
      },
      "source": [
        "## Prediccion para todos los datos (2012-2017)"
      ]
    },
    {
      "cell_type": "code",
      "metadata": {
        "colab": {
          "base_uri": "https://localhost:8080/",
          "height": 422
        },
        "id": "ypondpgwoQls",
        "outputId": "f27bc191-7ca3-44f1-d4f1-c15bac66a991"
      },
      "source": [
        "main_df = df[['Fecha', 'Mes', 'Día del mes', 'Día de la semana', 'Día laboral']]\n",
        "main_df"
      ],
      "execution_count": 56,
      "outputs": [
        {
          "output_type": "execute_result",
          "data": {
            "text/html": [
              "<div>\n",
              "<style scoped>\n",
              "    .dataframe tbody tr th:only-of-type {\n",
              "        vertical-align: middle;\n",
              "    }\n",
              "\n",
              "    .dataframe tbody tr th {\n",
              "        vertical-align: top;\n",
              "    }\n",
              "\n",
              "    .dataframe thead th {\n",
              "        text-align: right;\n",
              "    }\n",
              "</style>\n",
              "<table border=\"1\" class=\"dataframe\">\n",
              "  <thead>\n",
              "    <tr style=\"text-align: right;\">\n",
              "      <th></th>\n",
              "      <th>Fecha</th>\n",
              "      <th>Mes</th>\n",
              "      <th>Día del mes</th>\n",
              "      <th>Día de la semana</th>\n",
              "      <th>Día laboral</th>\n",
              "    </tr>\n",
              "  </thead>\n",
              "  <tbody>\n",
              "    <tr>\n",
              "      <th>0</th>\n",
              "      <td>2012-01-01</td>\n",
              "      <td>1</td>\n",
              "      <td>1</td>\n",
              "      <td>0</td>\n",
              "      <td>0</td>\n",
              "    </tr>\n",
              "    <tr>\n",
              "      <th>1</th>\n",
              "      <td>2012-01-02</td>\n",
              "      <td>1</td>\n",
              "      <td>2</td>\n",
              "      <td>1</td>\n",
              "      <td>1</td>\n",
              "    </tr>\n",
              "    <tr>\n",
              "      <th>2</th>\n",
              "      <td>2012-01-03</td>\n",
              "      <td>1</td>\n",
              "      <td>3</td>\n",
              "      <td>2</td>\n",
              "      <td>1</td>\n",
              "    </tr>\n",
              "    <tr>\n",
              "      <th>3</th>\n",
              "      <td>2012-01-04</td>\n",
              "      <td>1</td>\n",
              "      <td>4</td>\n",
              "      <td>3</td>\n",
              "      <td>1</td>\n",
              "    </tr>\n",
              "    <tr>\n",
              "      <th>4</th>\n",
              "      <td>2012-01-05</td>\n",
              "      <td>1</td>\n",
              "      <td>5</td>\n",
              "      <td>4</td>\n",
              "      <td>1</td>\n",
              "    </tr>\n",
              "    <tr>\n",
              "      <th>...</th>\n",
              "      <td>...</td>\n",
              "      <td>...</td>\n",
              "      <td>...</td>\n",
              "      <td>...</td>\n",
              "      <td>...</td>\n",
              "    </tr>\n",
              "    <tr>\n",
              "      <th>2187</th>\n",
              "      <td>2017-12-27</td>\n",
              "      <td>12</td>\n",
              "      <td>27</td>\n",
              "      <td>3</td>\n",
              "      <td>1</td>\n",
              "    </tr>\n",
              "    <tr>\n",
              "      <th>2188</th>\n",
              "      <td>2017-12-28</td>\n",
              "      <td>12</td>\n",
              "      <td>28</td>\n",
              "      <td>4</td>\n",
              "      <td>1</td>\n",
              "    </tr>\n",
              "    <tr>\n",
              "      <th>2189</th>\n",
              "      <td>2017-12-29</td>\n",
              "      <td>12</td>\n",
              "      <td>29</td>\n",
              "      <td>5</td>\n",
              "      <td>1</td>\n",
              "    </tr>\n",
              "    <tr>\n",
              "      <th>2190</th>\n",
              "      <td>2017-12-30</td>\n",
              "      <td>12</td>\n",
              "      <td>30</td>\n",
              "      <td>6</td>\n",
              "      <td>1</td>\n",
              "    </tr>\n",
              "    <tr>\n",
              "      <th>2191</th>\n",
              "      <td>2017-12-31</td>\n",
              "      <td>12</td>\n",
              "      <td>31</td>\n",
              "      <td>0</td>\n",
              "      <td>0</td>\n",
              "    </tr>\n",
              "  </tbody>\n",
              "</table>\n",
              "<p>2192 rows × 5 columns</p>\n",
              "</div>"
            ],
            "text/plain": [
              "          Fecha  Mes  Día del mes  Día de la semana  Día laboral\n",
              "0    2012-01-01    1            1                 0            0\n",
              "1    2012-01-02    1            2                 1            1\n",
              "2    2012-01-03    1            3                 2            1\n",
              "3    2012-01-04    1            4                 3            1\n",
              "4    2012-01-05    1            5                 4            1\n",
              "...         ...  ...          ...               ...          ...\n",
              "2187 2017-12-27   12           27                 3            1\n",
              "2188 2017-12-28   12           28                 4            1\n",
              "2189 2017-12-29   12           29                 5            1\n",
              "2190 2017-12-30   12           30                 6            1\n",
              "2191 2017-12-31   12           31                 0            0\n",
              "\n",
              "[2192 rows x 5 columns]"
            ]
          },
          "metadata": {},
          "execution_count": 56
        }
      ]
    },
    {
      "cell_type": "code",
      "metadata": {
        "colab": {
          "base_uri": "https://localhost:8080/"
        },
        "id": "j5R9hhR6n-jV",
        "outputId": "3756de8e-d3ba-4ad1-c405-407f3259d89a"
      },
      "source": [
        "# Predecir datos 2012-2017\n",
        "def pred(row):\n",
        "  return label_new_data(row[['Mes', 'Día del mes', 'Día de la semana', 'Día laboral']])\n",
        "main_df_pred = main_df.apply(pred, axis = 1)\n",
        "main_df_pred"
      ],
      "execution_count": 57,
      "outputs": [
        {
          "output_type": "execute_result",
          "data": {
            "text/plain": [
              "0          0\n",
              "1        523\n",
              "2        648\n",
              "3        801\n",
              "4       1019\n",
              "        ... \n",
              "2187    1432\n",
              "2188    1557\n",
              "2189    1552\n",
              "2190     769\n",
              "2191       0\n",
              "Length: 2192, dtype: int64"
            ]
          },
          "metadata": {},
          "execution_count": 57
        }
      ]
    },
    {
      "cell_type": "code",
      "metadata": {
        "colab": {
          "base_uri": "https://localhost:8080/"
        },
        "id": "Fo3rffhNZsrK",
        "outputId": "1ee21037-8adc-4ccc-82c6-5de40a8e7926"
      },
      "source": [
        "from sklearn.metrics import r2_score\n",
        "\n",
        "r2 = r2_score(main_df_pred, df[[\"Unidades\"]])\n",
        "\n",
        "r2"
      ],
      "execution_count": 58,
      "outputs": [
        {
          "output_type": "execute_result",
          "data": {
            "text/plain": [
              "0.7099877480586949"
            ]
          },
          "metadata": {},
          "execution_count": 58
        }
      ]
    },
    {
      "cell_type": "markdown",
      "metadata": {
        "id": "juIsWhBNr-ze"
      },
      "source": [
        "Como podemos ver, nuestra red neuronal, prediciendo todos los datos disponibles (de 2012 a 2017) tiene un $R^2$ de $0.7099$, lo que es bastante bueno"
      ]
    },
    {
      "cell_type": "code",
      "metadata": {
        "colab": {
          "base_uri": "https://localhost:8080/",
          "height": 17
        },
        "id": "jkgQAFj9sRYW",
        "outputId": "05f5cf78-1307-40bf-b5e0-81db52e11f3c"
      },
      "source": [
        "import warnings\n",
        "warnings.filterwarnings('ignore')\n",
        "\n",
        "df_2012_2017 = df[[\"Fecha\"]]\n",
        "df_2012_2017[\"Unidades_pred\"] = main_df_pred\n",
        "df_2012_2017\n",
        "\n",
        "df_2012_2017.to_csv('df_2012_2017.csv')\n",
        "files.download('df_2012_2017.csv')"
      ],
      "execution_count": 59,
      "outputs": [
        {
          "output_type": "display_data",
          "data": {
            "application/javascript": [
              "\n",
              "    async function download(id, filename, size) {\n",
              "      if (!google.colab.kernel.accessAllowed) {\n",
              "        return;\n",
              "      }\n",
              "      const div = document.createElement('div');\n",
              "      const label = document.createElement('label');\n",
              "      label.textContent = `Downloading \"${filename}\": `;\n",
              "      div.appendChild(label);\n",
              "      const progress = document.createElement('progress');\n",
              "      progress.max = size;\n",
              "      div.appendChild(progress);\n",
              "      document.body.appendChild(div);\n",
              "\n",
              "      const buffers = [];\n",
              "      let downloaded = 0;\n",
              "\n",
              "      const channel = await google.colab.kernel.comms.open(id);\n",
              "      // Send a message to notify the kernel that we're ready.\n",
              "      channel.send({})\n",
              "\n",
              "      for await (const message of channel.messages) {\n",
              "        // Send a message to notify the kernel that we're ready.\n",
              "        channel.send({})\n",
              "        if (message.buffers) {\n",
              "          for (const buffer of message.buffers) {\n",
              "            buffers.push(buffer);\n",
              "            downloaded += buffer.byteLength;\n",
              "            progress.value = downloaded;\n",
              "          }\n",
              "        }\n",
              "      }\n",
              "      const blob = new Blob(buffers, {type: 'application/binary'});\n",
              "      const a = document.createElement('a');\n",
              "      a.href = window.URL.createObjectURL(blob);\n",
              "      a.download = filename;\n",
              "      div.appendChild(a);\n",
              "      a.click();\n",
              "      div.remove();\n",
              "    }\n",
              "  "
            ],
            "text/plain": [
              "<IPython.core.display.Javascript object>"
            ]
          },
          "metadata": {}
        },
        {
          "output_type": "display_data",
          "data": {
            "application/javascript": [
              "download(\"download_e8ee1a1b-e62b-4f12-a7d5-daf55875fae4\", \"df_2012_2017.csv\", 42940)"
            ],
            "text/plain": [
              "<IPython.core.display.Javascript object>"
            ]
          },
          "metadata": {}
        }
      ]
    },
    {
      "cell_type": "markdown",
      "metadata": {
        "id": "Yk72TAV5UduV"
      },
      "source": [
        "## Predicción para primer semestre de 2018"
      ]
    },
    {
      "cell_type": "markdown",
      "metadata": {
        "id": "0jtuxkUTz88A"
      },
      "source": [
        "Cargo un archivo con una columna, la fecha"
      ]
    },
    {
      "cell_type": "code",
      "metadata": {
        "id": "wpgWiBlEuy_o",
        "colab": {
          "resources": {
            "http://localhost:8080/nbextensions/google.colab/files.js": {
              "data": "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",
              "ok": true,
              "headers": [
                [
                  "content-type",
                  "application/javascript"
                ]
              ],
              "status": 200,
              "status_text": ""
            }
          },
          "base_uri": "https://localhost:8080/",
          "height": 478
        },
        "outputId": "7abc4458-d755-414e-d7e4-778cf9983f1a"
      },
      "source": [
        "uploaded = files.upload()\n",
        "df_2018 = pd.read_csv(\"2018.csv\")\n",
        "df_2018"
      ],
      "execution_count": 61,
      "outputs": [
        {
          "output_type": "display_data",
          "data": {
            "text/html": [
              "\n",
              "     <input type=\"file\" id=\"files-06e41bb7-81d6-4760-a364-c06ef094de20\" name=\"files[]\" multiple disabled\n",
              "        style=\"border:none\" />\n",
              "     <output id=\"result-06e41bb7-81d6-4760-a364-c06ef094de20\">\n",
              "      Upload widget is only available when the cell has been executed in the\n",
              "      current browser session. Please rerun this cell to enable.\n",
              "      </output>\n",
              "      <script src=\"/nbextensions/google.colab/files.js\"></script> "
            ],
            "text/plain": [
              "<IPython.core.display.HTML object>"
            ]
          },
          "metadata": {}
        },
        {
          "output_type": "stream",
          "name": "stdout",
          "text": [
            "Saving 2018.csv to 2018.csv\n"
          ]
        },
        {
          "output_type": "execute_result",
          "data": {
            "text/html": [
              "<div>\n",
              "<style scoped>\n",
              "    .dataframe tbody tr th:only-of-type {\n",
              "        vertical-align: middle;\n",
              "    }\n",
              "\n",
              "    .dataframe tbody tr th {\n",
              "        vertical-align: top;\n",
              "    }\n",
              "\n",
              "    .dataframe thead th {\n",
              "        text-align: right;\n",
              "    }\n",
              "</style>\n",
              "<table border=\"1\" class=\"dataframe\">\n",
              "  <thead>\n",
              "    <tr style=\"text-align: right;\">\n",
              "      <th></th>\n",
              "      <th>Fecha</th>\n",
              "    </tr>\n",
              "  </thead>\n",
              "  <tbody>\n",
              "    <tr>\n",
              "      <th>0</th>\n",
              "      <td>01/01/18</td>\n",
              "    </tr>\n",
              "    <tr>\n",
              "      <th>1</th>\n",
              "      <td>02/01/18</td>\n",
              "    </tr>\n",
              "    <tr>\n",
              "      <th>2</th>\n",
              "      <td>03/01/18</td>\n",
              "    </tr>\n",
              "    <tr>\n",
              "      <th>3</th>\n",
              "      <td>04/01/18</td>\n",
              "    </tr>\n",
              "    <tr>\n",
              "      <th>4</th>\n",
              "      <td>05/01/18</td>\n",
              "    </tr>\n",
              "    <tr>\n",
              "      <th>...</th>\n",
              "      <td>...</td>\n",
              "    </tr>\n",
              "    <tr>\n",
              "      <th>176</th>\n",
              "      <td>26/06/18</td>\n",
              "    </tr>\n",
              "    <tr>\n",
              "      <th>177</th>\n",
              "      <td>27/06/18</td>\n",
              "    </tr>\n",
              "    <tr>\n",
              "      <th>178</th>\n",
              "      <td>28/06/18</td>\n",
              "    </tr>\n",
              "    <tr>\n",
              "      <th>179</th>\n",
              "      <td>29/06/18</td>\n",
              "    </tr>\n",
              "    <tr>\n",
              "      <th>180</th>\n",
              "      <td>30/06/18</td>\n",
              "    </tr>\n",
              "  </tbody>\n",
              "</table>\n",
              "<p>181 rows × 1 columns</p>\n",
              "</div>"
            ],
            "text/plain": [
              "        Fecha\n",
              "0    01/01/18\n",
              "1    02/01/18\n",
              "2    03/01/18\n",
              "3    04/01/18\n",
              "4    05/01/18\n",
              "..        ...\n",
              "176  26/06/18\n",
              "177  27/06/18\n",
              "178  28/06/18\n",
              "179  29/06/18\n",
              "180  30/06/18\n",
              "\n",
              "[181 rows x 1 columns]"
            ]
          },
          "metadata": {},
          "execution_count": 61
        }
      ]
    },
    {
      "cell_type": "markdown",
      "metadata": {
        "id": "mW29blEtz6j1"
      },
      "source": [
        "Transformo mis datos del 2018 para tener el mismo formato"
      ]
    },
    {
      "cell_type": "code",
      "metadata": {
        "id": "umvozrUQu3jX"
      },
      "source": [
        "df_2018.Fecha = pd.to_datetime(df_2018.Fecha, format= '%d/%m/%y')\n",
        "\n",
        "df_2018 ['Mes'] = df_2018.Fecha.apply(get_month)\n",
        "df_2018['Día'] = df_2018.Fecha.apply(get_weekday)\n",
        "df_2018 ['Tipo de día'] = df_2018['Día'].apply(tipo_dia)\n",
        "df_2018 ['Día del mes'] = df_2018.Fecha.apply(get_day)\n",
        "\n",
        "df_2018 ['Día de la semana'] = df_2018['Día'].replace(weekdays_dic)\n",
        "df_2018 ['Día laboral'] = df_2018['Tipo de día'].replace(laborday_dic)\n",
        "\n",
        "\n",
        "column_selection = df_2018 [['Mes', 'Día del mes', 'Día de la semana', 'Día laboral']]\n",
        "\n",
        "data_2018 = column_selection.to_numpy()"
      ],
      "execution_count": 62,
      "outputs": []
    },
    {
      "cell_type": "markdown",
      "metadata": {
        "id": "Ru1yb9Jc1XXh"
      },
      "source": [
        "Prediccion en fechas del 2018 "
      ]
    },
    {
      "cell_type": "code",
      "metadata": {
        "id": "F5XAizkC4ZcO",
        "colab": {
          "base_uri": "https://localhost:8080/",
          "height": 422
        },
        "outputId": "ba7fe7eb-71ee-4f17-f322-33430e42adb1"
      },
      "source": [
        "df_2018[\"Unidades\"] = 0\n",
        "df_2018"
      ],
      "execution_count": 63,
      "outputs": [
        {
          "output_type": "execute_result",
          "data": {
            "text/html": [
              "<div>\n",
              "<style scoped>\n",
              "    .dataframe tbody tr th:only-of-type {\n",
              "        vertical-align: middle;\n",
              "    }\n",
              "\n",
              "    .dataframe tbody tr th {\n",
              "        vertical-align: top;\n",
              "    }\n",
              "\n",
              "    .dataframe thead th {\n",
              "        text-align: right;\n",
              "    }\n",
              "</style>\n",
              "<table border=\"1\" class=\"dataframe\">\n",
              "  <thead>\n",
              "    <tr style=\"text-align: right;\">\n",
              "      <th></th>\n",
              "      <th>Fecha</th>\n",
              "      <th>Mes</th>\n",
              "      <th>Día</th>\n",
              "      <th>Tipo de día</th>\n",
              "      <th>Día del mes</th>\n",
              "      <th>Día de la semana</th>\n",
              "      <th>Día laboral</th>\n",
              "      <th>Unidades</th>\n",
              "    </tr>\n",
              "  </thead>\n",
              "  <tbody>\n",
              "    <tr>\n",
              "      <th>0</th>\n",
              "      <td>2018-01-01</td>\n",
              "      <td>1</td>\n",
              "      <td>Monday</td>\n",
              "      <td>Semana</td>\n",
              "      <td>1</td>\n",
              "      <td>1</td>\n",
              "      <td>1</td>\n",
              "      <td>0</td>\n",
              "    </tr>\n",
              "    <tr>\n",
              "      <th>1</th>\n",
              "      <td>2018-01-02</td>\n",
              "      <td>1</td>\n",
              "      <td>Tuesday</td>\n",
              "      <td>Semana</td>\n",
              "      <td>2</td>\n",
              "      <td>2</td>\n",
              "      <td>1</td>\n",
              "      <td>0</td>\n",
              "    </tr>\n",
              "    <tr>\n",
              "      <th>2</th>\n",
              "      <td>2018-01-03</td>\n",
              "      <td>1</td>\n",
              "      <td>Wednesday</td>\n",
              "      <td>Semana</td>\n",
              "      <td>3</td>\n",
              "      <td>3</td>\n",
              "      <td>1</td>\n",
              "      <td>0</td>\n",
              "    </tr>\n",
              "    <tr>\n",
              "      <th>3</th>\n",
              "      <td>2018-01-04</td>\n",
              "      <td>1</td>\n",
              "      <td>Thursday</td>\n",
              "      <td>Semana</td>\n",
              "      <td>4</td>\n",
              "      <td>4</td>\n",
              "      <td>1</td>\n",
              "      <td>0</td>\n",
              "    </tr>\n",
              "    <tr>\n",
              "      <th>4</th>\n",
              "      <td>2018-01-05</td>\n",
              "      <td>1</td>\n",
              "      <td>Friday</td>\n",
              "      <td>Semana</td>\n",
              "      <td>5</td>\n",
              "      <td>5</td>\n",
              "      <td>1</td>\n",
              "      <td>0</td>\n",
              "    </tr>\n",
              "    <tr>\n",
              "      <th>...</th>\n",
              "      <td>...</td>\n",
              "      <td>...</td>\n",
              "      <td>...</td>\n",
              "      <td>...</td>\n",
              "      <td>...</td>\n",
              "      <td>...</td>\n",
              "      <td>...</td>\n",
              "      <td>...</td>\n",
              "    </tr>\n",
              "    <tr>\n",
              "      <th>176</th>\n",
              "      <td>2018-06-26</td>\n",
              "      <td>6</td>\n",
              "      <td>Tuesday</td>\n",
              "      <td>Semana</td>\n",
              "      <td>26</td>\n",
              "      <td>2</td>\n",
              "      <td>1</td>\n",
              "      <td>0</td>\n",
              "    </tr>\n",
              "    <tr>\n",
              "      <th>177</th>\n",
              "      <td>2018-06-27</td>\n",
              "      <td>6</td>\n",
              "      <td>Wednesday</td>\n",
              "      <td>Semana</td>\n",
              "      <td>27</td>\n",
              "      <td>3</td>\n",
              "      <td>1</td>\n",
              "      <td>0</td>\n",
              "    </tr>\n",
              "    <tr>\n",
              "      <th>178</th>\n",
              "      <td>2018-06-28</td>\n",
              "      <td>6</td>\n",
              "      <td>Thursday</td>\n",
              "      <td>Semana</td>\n",
              "      <td>28</td>\n",
              "      <td>4</td>\n",
              "      <td>1</td>\n",
              "      <td>0</td>\n",
              "    </tr>\n",
              "    <tr>\n",
              "      <th>179</th>\n",
              "      <td>2018-06-29</td>\n",
              "      <td>6</td>\n",
              "      <td>Friday</td>\n",
              "      <td>Semana</td>\n",
              "      <td>29</td>\n",
              "      <td>5</td>\n",
              "      <td>1</td>\n",
              "      <td>0</td>\n",
              "    </tr>\n",
              "    <tr>\n",
              "      <th>180</th>\n",
              "      <td>2018-06-30</td>\n",
              "      <td>6</td>\n",
              "      <td>Saturday</td>\n",
              "      <td>Semana</td>\n",
              "      <td>30</td>\n",
              "      <td>6</td>\n",
              "      <td>1</td>\n",
              "      <td>0</td>\n",
              "    </tr>\n",
              "  </tbody>\n",
              "</table>\n",
              "<p>181 rows × 8 columns</p>\n",
              "</div>"
            ],
            "text/plain": [
              "         Fecha  Mes        Día  ... Día de la semana  Día laboral  Unidades\n",
              "0   2018-01-01    1     Monday  ...                1            1         0\n",
              "1   2018-01-02    1    Tuesday  ...                2            1         0\n",
              "2   2018-01-03    1  Wednesday  ...                3            1         0\n",
              "3   2018-01-04    1   Thursday  ...                4            1         0\n",
              "4   2018-01-05    1     Friday  ...                5            1         0\n",
              "..         ...  ...        ...  ...              ...          ...       ...\n",
              "176 2018-06-26    6    Tuesday  ...                2            1         0\n",
              "177 2018-06-27    6  Wednesday  ...                3            1         0\n",
              "178 2018-06-28    6   Thursday  ...                4            1         0\n",
              "179 2018-06-29    6     Friday  ...                5            1         0\n",
              "180 2018-06-30    6   Saturday  ...                6            1         0\n",
              "\n",
              "[181 rows x 8 columns]"
            ]
          },
          "metadata": {},
          "execution_count": 63
        }
      ]
    },
    {
      "cell_type": "code",
      "metadata": {
        "id": "oVRqpa9U3O3_"
      },
      "source": [
        "for i in range(0, len(data_2018)):\n",
        "  df_2018.loc[i, \"Unidades\"] = label_new_data(data_2018[i])"
      ],
      "execution_count": 64,
      "outputs": []
    },
    {
      "cell_type": "code",
      "metadata": {
        "id": "3yx1WbQe82Re",
        "colab": {
          "base_uri": "https://localhost:8080/",
          "height": 422
        },
        "outputId": "3ae9c324-487c-4fd6-d416-18a80b0a849e"
      },
      "source": [
        "df_2018"
      ],
      "execution_count": 65,
      "outputs": [
        {
          "output_type": "execute_result",
          "data": {
            "text/html": [
              "<div>\n",
              "<style scoped>\n",
              "    .dataframe tbody tr th:only-of-type {\n",
              "        vertical-align: middle;\n",
              "    }\n",
              "\n",
              "    .dataframe tbody tr th {\n",
              "        vertical-align: top;\n",
              "    }\n",
              "\n",
              "    .dataframe thead th {\n",
              "        text-align: right;\n",
              "    }\n",
              "</style>\n",
              "<table border=\"1\" class=\"dataframe\">\n",
              "  <thead>\n",
              "    <tr style=\"text-align: right;\">\n",
              "      <th></th>\n",
              "      <th>Fecha</th>\n",
              "      <th>Mes</th>\n",
              "      <th>Día</th>\n",
              "      <th>Tipo de día</th>\n",
              "      <th>Día del mes</th>\n",
              "      <th>Día de la semana</th>\n",
              "      <th>Día laboral</th>\n",
              "      <th>Unidades</th>\n",
              "    </tr>\n",
              "  </thead>\n",
              "  <tbody>\n",
              "    <tr>\n",
              "      <th>0</th>\n",
              "      <td>2018-01-01</td>\n",
              "      <td>1</td>\n",
              "      <td>Monday</td>\n",
              "      <td>Semana</td>\n",
              "      <td>1</td>\n",
              "      <td>1</td>\n",
              "      <td>1</td>\n",
              "      <td>506</td>\n",
              "    </tr>\n",
              "    <tr>\n",
              "      <th>1</th>\n",
              "      <td>2018-01-02</td>\n",
              "      <td>1</td>\n",
              "      <td>Tuesday</td>\n",
              "      <td>Semana</td>\n",
              "      <td>2</td>\n",
              "      <td>2</td>\n",
              "      <td>1</td>\n",
              "      <td>630</td>\n",
              "    </tr>\n",
              "    <tr>\n",
              "      <th>2</th>\n",
              "      <td>2018-01-03</td>\n",
              "      <td>1</td>\n",
              "      <td>Wednesday</td>\n",
              "      <td>Semana</td>\n",
              "      <td>3</td>\n",
              "      <td>3</td>\n",
              "      <td>1</td>\n",
              "      <td>800</td>\n",
              "    </tr>\n",
              "    <tr>\n",
              "      <th>3</th>\n",
              "      <td>2018-01-04</td>\n",
              "      <td>1</td>\n",
              "      <td>Thursday</td>\n",
              "      <td>Semana</td>\n",
              "      <td>4</td>\n",
              "      <td>4</td>\n",
              "      <td>1</td>\n",
              "      <td>1018</td>\n",
              "    </tr>\n",
              "    <tr>\n",
              "      <th>4</th>\n",
              "      <td>2018-01-05</td>\n",
              "      <td>1</td>\n",
              "      <td>Friday</td>\n",
              "      <td>Semana</td>\n",
              "      <td>5</td>\n",
              "      <td>5</td>\n",
              "      <td>1</td>\n",
              "      <td>945</td>\n",
              "    </tr>\n",
              "    <tr>\n",
              "      <th>...</th>\n",
              "      <td>...</td>\n",
              "      <td>...</td>\n",
              "      <td>...</td>\n",
              "      <td>...</td>\n",
              "      <td>...</td>\n",
              "      <td>...</td>\n",
              "      <td>...</td>\n",
              "      <td>...</td>\n",
              "    </tr>\n",
              "    <tr>\n",
              "      <th>176</th>\n",
              "      <td>2018-06-26</td>\n",
              "      <td>6</td>\n",
              "      <td>Tuesday</td>\n",
              "      <td>Semana</td>\n",
              "      <td>26</td>\n",
              "      <td>2</td>\n",
              "      <td>1</td>\n",
              "      <td>1167</td>\n",
              "    </tr>\n",
              "    <tr>\n",
              "      <th>177</th>\n",
              "      <td>2018-06-27</td>\n",
              "      <td>6</td>\n",
              "      <td>Wednesday</td>\n",
              "      <td>Semana</td>\n",
              "      <td>27</td>\n",
              "      <td>3</td>\n",
              "      <td>1</td>\n",
              "      <td>1292</td>\n",
              "    </tr>\n",
              "    <tr>\n",
              "      <th>178</th>\n",
              "      <td>2018-06-28</td>\n",
              "      <td>6</td>\n",
              "      <td>Thursday</td>\n",
              "      <td>Semana</td>\n",
              "      <td>28</td>\n",
              "      <td>4</td>\n",
              "      <td>1</td>\n",
              "      <td>1417</td>\n",
              "    </tr>\n",
              "    <tr>\n",
              "      <th>179</th>\n",
              "      <td>2018-06-29</td>\n",
              "      <td>6</td>\n",
              "      <td>Friday</td>\n",
              "      <td>Semana</td>\n",
              "      <td>29</td>\n",
              "      <td>5</td>\n",
              "      <td>1</td>\n",
              "      <td>1404</td>\n",
              "    </tr>\n",
              "    <tr>\n",
              "      <th>180</th>\n",
              "      <td>2018-06-30</td>\n",
              "      <td>6</td>\n",
              "      <td>Saturday</td>\n",
              "      <td>Semana</td>\n",
              "      <td>30</td>\n",
              "      <td>6</td>\n",
              "      <td>1</td>\n",
              "      <td>621</td>\n",
              "    </tr>\n",
              "  </tbody>\n",
              "</table>\n",
              "<p>181 rows × 8 columns</p>\n",
              "</div>"
            ],
            "text/plain": [
              "         Fecha  Mes        Día  ... Día de la semana  Día laboral  Unidades\n",
              "0   2018-01-01    1     Monday  ...                1            1       506\n",
              "1   2018-01-02    1    Tuesday  ...                2            1       630\n",
              "2   2018-01-03    1  Wednesday  ...                3            1       800\n",
              "3   2018-01-04    1   Thursday  ...                4            1      1018\n",
              "4   2018-01-05    1     Friday  ...                5            1       945\n",
              "..         ...  ...        ...  ...              ...          ...       ...\n",
              "176 2018-06-26    6    Tuesday  ...                2            1      1167\n",
              "177 2018-06-27    6  Wednesday  ...                3            1      1292\n",
              "178 2018-06-28    6   Thursday  ...                4            1      1417\n",
              "179 2018-06-29    6     Friday  ...                5            1      1404\n",
              "180 2018-06-30    6   Saturday  ...                6            1       621\n",
              "\n",
              "[181 rows x 8 columns]"
            ]
          },
          "metadata": {},
          "execution_count": 65
        }
      ]
    },
    {
      "cell_type": "code",
      "metadata": {
        "id": "o8cQjoveuvc2",
        "colab": {
          "base_uri": "https://localhost:8080/",
          "height": 17
        },
        "outputId": "538fc07f-27dc-4526-f9db-5cc12974902c"
      },
      "source": [
        "df_2018.to_csv('df_2018.csv')\n",
        "files.download('df_2018.csv')"
      ],
      "execution_count": 66,
      "outputs": [
        {
          "output_type": "display_data",
          "data": {
            "application/javascript": [
              "\n",
              "    async function download(id, filename, size) {\n",
              "      if (!google.colab.kernel.accessAllowed) {\n",
              "        return;\n",
              "      }\n",
              "      const div = document.createElement('div');\n",
              "      const label = document.createElement('label');\n",
              "      label.textContent = `Downloading \"${filename}\": `;\n",
              "      div.appendChild(label);\n",
              "      const progress = document.createElement('progress');\n",
              "      progress.max = size;\n",
              "      div.appendChild(progress);\n",
              "      document.body.appendChild(div);\n",
              "\n",
              "      const buffers = [];\n",
              "      let downloaded = 0;\n",
              "\n",
              "      const channel = await google.colab.kernel.comms.open(id);\n",
              "      // Send a message to notify the kernel that we're ready.\n",
              "      channel.send({})\n",
              "\n",
              "      for await (const message of channel.messages) {\n",
              "        // Send a message to notify the kernel that we're ready.\n",
              "        channel.send({})\n",
              "        if (message.buffers) {\n",
              "          for (const buffer of message.buffers) {\n",
              "            buffers.push(buffer);\n",
              "            downloaded += buffer.byteLength;\n",
              "            progress.value = downloaded;\n",
              "          }\n",
              "        }\n",
              "      }\n",
              "      const blob = new Blob(buffers, {type: 'application/binary'});\n",
              "      const a = document.createElement('a');\n",
              "      a.href = window.URL.createObjectURL(blob);\n",
              "      a.download = filename;\n",
              "      div.appendChild(a);\n",
              "      a.click();\n",
              "      div.remove();\n",
              "    }\n",
              "  "
            ],
            "text/plain": [
              "<IPython.core.display.Javascript object>"
            ]
          },
          "metadata": {}
        },
        {
          "output_type": "display_data",
          "data": {
            "application/javascript": [
              "download(\"download_2b28b759-491e-41a8-8b26-225c80e18fdc\", \"df_2018.csv\", 8072)"
            ],
            "text/plain": [
              "<IPython.core.display.Javascript object>"
            ]
          },
          "metadata": {}
        }
      ]
    },
    {
      "cell_type": "code",
      "metadata": {
        "colab": {
          "base_uri": "https://localhost:8080/"
        },
        "id": "scU2he3FueAH",
        "outputId": "749253fc-d174-419a-aaf5-710cf9fc7492"
      },
      "source": [
        "#@title Bonus: Aplicación interactiva para predecir. { display-mode: \"form\" }\n",
        "fecha = \"2021-09-16\" #@param {type:\"date\"}\n",
        "festivo = \"Si\" #@param [\"Si\", \"No\"] {allow-input: true}\n",
        "text_and_dropdown = 'value'\n",
        "#'Mes', 'Día del mes', 'Día de la semana', 'Día laboral'\n",
        "fecha_sel = pd.to_datetime(fecha, format= '%Y-%m-%d')\n",
        "\n",
        "m = fecha_sel.month\n",
        "dia_mes = fecha_sel.day\n",
        "dia_sem = weekdays_dic[fecha_sel.day_name()]\n",
        "\n",
        "if festivo == \"Si\":\n",
        "  print(\"Prediccion de autos registrados para este dia: \"+str(label_new_data([m, dia_mes, dia_sem, 0])))\n",
        "else:\n",
        "  print(\"Prediccion de autos registrados para este dia: \"+str(label_new_data([m, dia_mes, dia_sem, 1])))\n"
      ],
      "execution_count": 70,
      "outputs": [
        {
          "output_type": "stream",
          "name": "stdout",
          "text": [
            "Prediccion de autos registrados para este dia: 0\n"
          ]
        }
      ]
    },
    {
      "cell_type": "markdown",
      "metadata": {
        "id": "qg0uA17Q1Im8"
      },
      "source": [
        "# Bibliografia\n",
        "\n",
        "Carter, D., 2021. Tensorflow — Neural Network Playground. [online] Playground.tensorflow.org. Available at: [https://playground.tensorflow.org/](https://playground.tensorflow.org/#activation=relu&batchSize=2&dataset=spiral&regDataset=reg-plane&learningRate=0.003&regularizationRate=0&noise=50&networkShape=2,2&seed=0.07223&showTestData=false&discretize=false&percTrainData=60&x=true&y=true&xTimesY=false&xSquared=false&ySquared=false&cosX=false&sinX=false&cosY=false&sinY=false&collectStats=false&problem=regression&initZero=false&hideText=false) [Accessed 7 September 2021].\n",
        "\n",
        "En.wikipedia.org. 2021. Rectifier (neural networks) - Wikipedia. [online] Available at: <https://en.wikipedia.org/wiki/Rectifier_(neural_networks)#Leaky_ReLU> [Accessed 7 September 2021].\n",
        "\n",
        "Jaokar, A., 2019. An elegant way to represent forward propagation and back propagation in a neural network. [online] Datasciencecentral.com. Available at: <https://www.datasciencecentral.com/profiles/blogs/an-elegant-way-to-represent-forward-propagation-and-back> [Accessed 7 September 2021].\n"
      ]
    }
  ]
}